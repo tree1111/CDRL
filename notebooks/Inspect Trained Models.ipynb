{
 "cells": [
  {
   "cell_type": "markdown",
   "id": "7f8f9fa0-6900-4066-8742-48f3aad71e37",
   "metadata": {},
   "source": [
    "# Inspect Trained Models"
   ]
  },
  {
   "cell_type": "code",
   "execution_count": 1,
   "id": "e44f05b5-5170-4268-901b-ffb2d8474aaa",
   "metadata": {},
   "outputs": [],
   "source": [
    "%load_ext autoreload\n",
    "%autoreload 2"
   ]
  },
  {
   "cell_type": "code",
   "execution_count": 2,
   "id": "2bdab99e-2343-4cf2-933e-f55370f419cf",
   "metadata": {},
   "outputs": [],
   "source": [
    "import os\n",
    "from pathlib import Path\n",
    "\n",
    "import numpy as np\n",
    "from PIL import Image\n",
    "import numpy as np\n",
    "import os\n",
    "import torch\n",
    "from torchvision import datasets\n",
    "from torchvision.transforms import ToTensor\n",
    "import torchvision.datasets.utils as dataset_utils\n",
    "\n",
    "from gendis.datasets import CausalMNIST\n",
    "\n",
    "import matplotlib.pyplot as plt\n",
    "import seaborn as sns"
   ]
  },
  {
   "cell_type": "code",
   "execution_count": 3,
   "id": "8b60987b-256e-486a-9b2d-07cb5eaf6fe8",
   "metadata": {},
   "outputs": [],
   "source": [
    "seed = 1\n",
    "graph_type = 'chain'\n",
    "\n",
    "results_dir = Path(f'/Users/adam2392/pytorch_data/data/chain-seed={seed}/seed-{seed}_{graph_type}/')\n",
    "model = torch.load(results_dir / f'model.pt', map_location=torch.device('cpu'))"
   ]
  },
  {
   "cell_type": "markdown",
   "id": "ec958baa-b56a-4b5a-86da-2f5026a3d45f",
   "metadata": {},
   "source": [
    "# Demo Trained Model Reproducing Images\n",
    "\n",
    "Here, we are interested in qualitatively analyzing the trained model. This will entail"
   ]
  },
  {
   "cell_type": "code",
   "execution_count": 4,
   "id": "d6d7d8c1-b51e-4017-b964-24014d9fa934",
   "metadata": {},
   "outputs": [
    {
     "name": "stdout",
     "output_type": "stream",
     "text": [
      "Loading dataset from \"/Users/adam2392/pytorch_data/CausalMNIST/chain/chain-0-train.pt\"\n",
      "torch.Size([3, 28, 28]) {'width': tensor([0.5344]), 'color': tensor([0.3977]), 'fracture_thickness': tensor([8.9378]), 'fracture_num_fractures': tensor([1.]), 'label': 0, 'intervention_targets': [0, 0, 0]}\n",
      "torch.Size([3, 28, 28])\n"
     ]
    }
   ],
   "source": [
    "# get the images\n",
    "graph_type = 'chain'\n",
    "root = '/Users/adam2392/pytorch_data/'\n",
    "\n",
    "dataset = CausalMNIST(root=root, graph_type=graph_type, label=0, download=True, train=True, n_jobs=None, intervention_idx=None)\n",
    "dataset.prepare_dataset(overwrite=False)\n",
    "\n",
    "img, metadata = dataset[0]\n",
    "print(img.shape)"
   ]
  },
  {
   "cell_type": "code",
   "execution_count": 10,
   "id": "5dff2d8c-ad24-43a2-bc59-b3b3981d5844",
   "metadata": {},
   "outputs": [
    {
     "name": "stdout",
     "output_type": "stream",
     "text": [
      "NonparametricClusteredCausalEncoder(\n",
      "  (q0): NonparametricClusteredCausalDistribution(\n",
      "    (q0): MultiEnvBaseDistribution()\n",
      "    (flows): ModuleList(\n",
      "      (0-2): 3 x AutoregressiveRationalQuadraticSpline(\n",
      "        (mprqat): MaskedPiecewiseRationalQuadraticAutoregressive(\n",
      "          (autoregressive_net): MADE(\n",
      "            (preprocessing): Identity()\n",
      "            (initial_layer): MaskedLinear(in_features=2352, out_features=128, bias=True)\n",
      "            (blocks): ModuleList(\n",
      "              (0-2): 3 x MaskedResidualBlock(\n",
      "                (linear_layers): ModuleList(\n",
      "                  (0-1): 2 x MaskedLinear(in_features=128, out_features=128, bias=True)\n",
      "                )\n",
      "                (activation): ReLU()\n",
      "                (dropout): Dropout(p=0.0, inplace=False)\n",
      "              )\n",
      "            )\n",
      "            (final_layer): MaskedLinear(in_features=128, out_features=54096, bias=True)\n",
      "          )\n",
      "        )\n",
      "      )\n",
      "    )\n",
      "  )\n",
      "  (flows): ModuleList(\n",
      "    (0-2): 3 x AutoregressiveRationalQuadraticSpline(\n",
      "      (mprqat): MaskedPiecewiseRationalQuadraticAutoregressive(\n",
      "        (autoregressive_net): MADE(\n",
      "          (preprocessing): Identity()\n",
      "          (initial_layer): MaskedLinear(in_features=2352, out_features=128, bias=True)\n",
      "          (blocks): ModuleList(\n",
      "            (0-2): 3 x MaskedResidualBlock(\n",
      "              (linear_layers): ModuleList(\n",
      "                (0-1): 2 x MaskedLinear(in_features=128, out_features=128, bias=True)\n",
      "              )\n",
      "              (activation): ReLU()\n",
      "              (dropout): Dropout(p=0.0, inplace=False)\n",
      "            )\n",
      "          )\n",
      "          (final_layer): MaskedLinear(in_features=128, out_features=54096, bias=True)\n",
      "        )\n",
      "      )\n",
      "    )\n",
      "  )\n",
      ")\n"
     ]
    }
   ],
   "source": [
    "# print(model)\n",
    "print(model.encoder)"
   ]
  },
  {
   "cell_type": "code",
   "execution_count": null,
   "id": "4ee11c8d-42d1-47d8-8f10-bcfc2e4a9fa6",
   "metadata": {},
   "outputs": [],
   "source": []
  }
 ],
 "metadata": {
  "kernelspec": {
   "display_name": "cdrl",
   "language": "python",
   "name": "cdrl"
  },
  "language_info": {
   "codemirror_mode": {
    "name": "ipython",
    "version": 3
   },
   "file_extension": ".py",
   "mimetype": "text/x-python",
   "name": "python",
   "nbconvert_exporter": "python",
   "pygments_lexer": "ipython3",
   "version": "3.10.14"
  }
 },
 "nbformat": 4,
 "nbformat_minor": 5
}
