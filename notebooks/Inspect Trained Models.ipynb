{
 "cells": [
  {
   "cell_type": "markdown",
   "id": "7f8f9fa0-6900-4066-8742-48f3aad71e37",
   "metadata": {},
   "source": [
    "# Inspect Trained Models"
   ]
  },
  {
   "cell_type": "code",
   "execution_count": 1,
   "id": "e44f05b5-5170-4268-901b-ffb2d8474aaa",
   "metadata": {},
   "outputs": [],
   "source": [
    "%load_ext autoreload\n",
    "%autoreload 2"
   ]
  },
  {
   "cell_type": "code",
   "execution_count": 2,
   "id": "2bdab99e-2343-4cf2-933e-f55370f419cf",
   "metadata": {},
   "outputs": [],
   "source": [
    "import os\n",
    "from pathlib import Path\n",
    "\n",
    "import numpy as np\n",
    "from PIL import Image\n",
    "import numpy as np\n",
    "import os\n",
    "import torch\n",
    "from torchvision import datasets\n",
    "from torchvision.transforms import ToTensor\n",
    "import torchvision.datasets.utils as dataset_utils\n",
    "\n",
    "from gendis.datasets import CausalMNIST, ClusteredMultiDistrDataModule\n",
    "from gendis.model import NeuralClusteredASCMFlow\n",
    "\n",
    "import matplotlib.pyplot as plt\n",
    "import seaborn as sns"
   ]
  },
  {
   "cell_type": "code",
   "execution_count": 3,
   "id": "8b60987b-256e-486a-9b2d-07cb5eaf6fe8",
   "metadata": {},
   "outputs": [],
   "source": [
    "seed = 2\n",
    "graph_type = 'chain'\n",
    "# Sub this model filename in when we support it and run new models\n",
    "model_fname = f\"{graph_type}-seed={seed}-model.pt\"\n",
    "\n",
    "results_dir = Path(f'/Users/adam2392/pytorch_data/data/chain-seed={seed}/')\n",
    "model = torch.load(results_dir / model_fname, map_location=torch.device('cpu'))"
   ]
  },
  {
   "cell_type": "code",
   "execution_count": 106,
   "id": "d6d7d8c1-b51e-4017-b964-24014d9fa934",
   "metadata": {},
   "outputs": [
    {
     "name": "stdout",
     "output_type": "stream",
     "text": [
      "Loading dataset from \"/Users/adam2392/pytorch_data/CausalMNIST/chain/chain-0-train.pt\"\n",
      "torch.Size([3, 28, 28]) {'width': tensor([0.5344]), 'color': tensor([0.3977]), 'fracture_thickness': tensor([8.9378]), 'fracture_num_fractures': tensor([1.]), 'label': 0, 'intervention_targets': [0, 0, 0]}\n",
      "torch.Size([3, 28, 28])\n"
     ]
    }
   ],
   "source": [
    "# get the images\n",
    "graph_type = 'chain'\n",
    "root = '/Users/adam2392/pytorch_data/'\n",
    "\n",
    "dataset = CausalMNIST(root=root, graph_type=graph_type, label=0, download=True, train=True, n_jobs=None, intervention_idx=None)\n",
    "dataset.prepare_dataset(overwrite=False)\n",
    "\n",
    "img, metadata = dataset[0]\n",
    "print(img.shape)"
   ]
  },
  {
   "cell_type": "code",
   "execution_count": 145,
   "id": "f9f5f3bf-6360-4357-b1fa-8aaf8f93a77d",
   "metadata": {},
   "outputs": [
    {
     "name": "stdout",
     "output_type": "stream",
     "text": [
      "Loading dataset from \"/Users/adam2392/pytorch_data/CausalMNIST/chain/chain-0-train.pt\"\n",
      "torch.Size([3, 28, 28]) {'width': tensor([0.5344]), 'color': tensor([0.3977]), 'fracture_thickness': tensor([8.9378]), 'fracture_num_fractures': tensor([1.]), 'label': 0, 'intervention_targets': [0, 0, 0]}\n",
      "Loading dataset from \"/Users/adam2392/pytorch_data/CausalMNIST/chain/chain-1-train.pt\"\n",
      "torch.Size([3, 28, 28]) {'width': tensor([4.0281]), 'color': tensor([0.3975]), 'fracture_thickness': tensor([9.4378]), 'fracture_num_fractures': tensor([1.]), 'label': 0, 'intervention_targets': [1, 0, 0]}\n",
      "Loading dataset from \"/Users/adam2392/pytorch_data/CausalMNIST/chain/chain-2-train.pt\"\n",
      "torch.Size([3, 28, 28]) {'width': tensor([0.4431]), 'color': tensor([0.4416]), 'fracture_thickness': tensor([10.2519]), 'fracture_num_fractures': tensor([0.]), 'label': 0, 'intervention_targets': [0, 0, 1]}\n",
      "Loading dataset from \"/Users/adam2392/pytorch_data/CausalMNIST/chain/chain-3-train.pt\"\n",
      "torch.Size([3, 28, 28]) {'width': tensor([1.2834]), 'color': tensor([0.5551]), 'fracture_thickness': tensor([8.9974]), 'fracture_num_fractures': tensor([0.]), 'label': 0, 'intervention_targets': [0, 0, 1]}\n"
     ]
    }
   ],
   "source": [
    "import normflows as nf\n",
    "\n",
    "# set up transforms for each image to augment the dataset\n",
    "transform = torchvision.transforms.Compose(\n",
    "    [\n",
    "        torchvision.transforms.ToTensor(),\n",
    "        nf.utils.Jitter(1 / 256.0),  # apply random generation\n",
    "        nf.utils.Scale(255.0 / 256.0),  # normalize the pixel values\n",
    "        nf.utils.Scale(1. / 256.0),  # normalize the pixel values\n",
    "        torchvision.transforms.RandomRotation(350),  # get random rotations\n",
    "    ]\n",
    ")\n",
    "\n",
    "# load dataset\n",
    "datasets = []\n",
    "intervention_targets_per_distr = []\n",
    "hard_interventions_per_distr = None\n",
    "num_distrs = 0\n",
    "for intervention_idx in [None, 1, 2, 3]:\n",
    "    dataset = CausalMNIST(\n",
    "        root=root,\n",
    "        graph_type=graph_type,\n",
    "        label=0,\n",
    "        download=True,\n",
    "        train=True,\n",
    "        n_jobs=None,\n",
    "        intervention_idx=intervention_idx,\n",
    "        transform=transform,\n",
    "    )\n",
    "    dataset.prepare_dataset(overwrite=False)\n",
    "    datasets.append(dataset)\n",
    "    num_distrs += 1\n",
    "    intervention_targets_per_distr.append(dataset.intervention_targets)\n"
   ]
  },
  {
   "cell_type": "code",
   "execution_count": 146,
   "id": "53c9701d-7ec1-4152-871a-762e11ac2d86",
   "metadata": {},
   "outputs": [
    {
     "name": "stdout",
     "output_type": "stream",
     "text": [
      "torch.Size([23692, 3, 28, 28]) 6 torch.Size([23692]) torch.Size([23692]) torch.Size([23692])\n"
     ]
    }
   ],
   "source": [
    "# now we can wrap this in a pytorch lightning datamodule\n",
    "data_module = ClusteredMultiDistrDataModule(\n",
    "    datasets=datasets,\n",
    "    num_workers=2,\n",
    "    batch_size=16,\n",
    "    intervention_targets_per_distr=intervention_targets_per_distr,\n",
    "    log_dir='./',\n",
    "    flatten=False,\n",
    ")\n",
    "data_module.setup()"
   ]
  },
  {
   "cell_type": "code",
   "execution_count": 149,
   "id": "11e57002-64e1-4ef0-b2b5-e409573ac902",
   "metadata": {},
   "outputs": [
    {
     "name": "stdout",
     "output_type": "stream",
     "text": [
      "tensor(42.) tensor(142.)\n",
      "tensor(0.) tensor(142.)\n",
      "tensor(0.) tensor(136.)\n",
      "tensor(0.) tensor(143.)\n",
      "tensor(0.) tensor(142.)\n",
      "tensor(0.) tensor(148.)\n",
      "tensor(0.) tensor(141.)\n",
      "tensor(0.) tensor(185.)\n",
      "tensor(0.) tensor(142.)\n",
      "tensor(0.) tensor(141.)\n",
      "tensor(0.) tensor(141.)\n",
      "tensor(0.) tensor(142.)\n",
      "tensor(0.) tensor(142.)\n",
      "tensor(0.) tensor(186.)\n",
      "tensor(0.) tensor(141.)\n",
      "tensor(0.) tensor(142.)\n"
     ]
    },
    {
     "data": {
      "image/png": "[encoded data removed]",
      "text/plain": [
       "<Figure size 600x600 with 1 Axes>"
      ]
     },
     "metadata": {},
     "output_type": "display_data"
    }
   ],
   "source": [
    "\n",
    "(imgs, width,\n",
    "        color,\n",
    "        fracture_thickness,\n",
    "        fracture_num_fractures,\n",
    "        label,\n",
    "        distr_indicators,\n",
    "        intervention_targets,\n",
    "    ) = next(iter(data_module.train_dataloader()))\n",
    "\n",
    "# new_obs_imgs = imgs\n",
    "new_obs_imgs = torch.zeros_like(imgs)\n",
    "for idx, image in enumerate(imgs):\n",
    "    print(image.min(), image.max())\n",
    "    image = (image - image.min()) / (image.max() - image.min())\n",
    "    new_obs_imgs[idx, ...] = image\n",
    "\n",
    "show_imgs(new_obs_imgs)"
   ]
  },
  {
   "cell_type": "code",
   "execution_count": 144,
   "id": "be873fe4-35cf-4e35-978e-f83aa2023529",
   "metadata": {},
   "outputs": [
    {
     "name": "stdout",
     "output_type": "stream",
     "text": [
      "tensor(143.) tensor(0.)\n"
     ]
    }
   ],
   "source": [
    "print(imgs[0].flatten().max(), imgs[0].flatten().min())"
   ]
  },
  {
   "cell_type": "code",
   "execution_count": null,
   "id": "bff8919c-5a5e-47d3-9d22-1c4f4c61b169",
   "metadata": {},
   "outputs": [],
   "source": [
    "\n"
   ]
  },
  {
   "cell_type": "markdown",
   "id": "ec958baa-b56a-4b5a-86da-2f5026a3d45f",
   "metadata": {},
   "source": [
    "# Demo Trained Model Reproducing Images\n",
    "\n",
    "Here, we are interested in qualitatively analyzing the trained model. This will entail"
   ]
  },
  {
   "cell_type": "code",
   "execution_count": 130,
   "id": "5514b83e-997c-48a7-98e5-81ea08ff5440",
   "metadata": {},
   "outputs": [
    {
     "name": "stdout",
     "output_type": "stream",
     "text": [
      "[torch.Size([5, 3, 28, 28]), torch.Size([5, 3, 28, 28]), torch.Size([5, 3, 28, 28]), torch.Size([5, 3, 28, 28]), torch.Size([5, 3, 28, 28])]\n"
     ]
    }
   ],
   "source": [
    "print([img.shape for img in imgs])"
   ]
  },
  {
   "cell_type": "code",
   "execution_count": 9,
   "id": "323df2cd-5a34-47bc-a507-2033bf9a3fa3",
   "metadata": {},
   "outputs": [],
   "source": [
    "import math\n",
    "import torchvision\n",
    "\n",
    "def show_imgs(imgs, title=None, row_size=4):\n",
    "    # Form a grid of pictures (we use max. 8 columns)\n",
    "    num_imgs = imgs.shape[0] if isinstance(imgs, torch.Tensor) else len(imgs)\n",
    "    is_int = imgs.dtype==torch.int32 if isinstance(imgs, torch.Tensor) else imgs[0].dtype==torch.int32\n",
    "    nrow = min(num_imgs, row_size)\n",
    "    ncol = int(math.ceil(num_imgs/nrow))\n",
    "    imgs = torchvision.utils.make_grid(imgs, nrow=nrow, pad_value=128 if is_int else 0.5)\n",
    "    np_imgs = imgs.cpu().numpy()\n",
    "    # Plot the grid\n",
    "    plt.figure(figsize=(1.5*nrow, 1.5*ncol))\n",
    "    plt.imshow(np.transpose(np_imgs, (1,2,0)), interpolation='nearest')\n",
    "    plt.axis('off')\n",
    "    if title is not None:\n",
    "        plt.title(title)\n",
    "    plt.show()\n",
    "    plt.close()"
   ]
  },
  {
   "cell_type": "code",
   "execution_count": 95,
   "id": "5dff2d8c-ad24-43a2-bc59-b3b3981d5844",
   "metadata": {},
   "outputs": [
    {
     "name": "stdout",
     "output_type": "stream",
     "text": [
      "NonparametricClusteredCausalDistribution(\n",
      "  (q0): MultiEnvBaseDistribution()\n",
      "  (flows): ModuleList(\n",
      "    (0-2): 3 x AutoregressiveRationalQuadraticSpline(\n",
      "      (mprqat): MaskedPiecewiseRationalQuadraticAutoregressive(\n",
      "        (autoregressive_net): MADE(\n",
      "          (preprocessing): Identity()\n",
      "          (initial_layer): MaskedLinear(in_features=2352, out_features=128, bias=True)\n",
      "          (blocks): ModuleList(\n",
      "            (0-2): 3 x MaskedResidualBlock(\n",
      "              (linear_layers): ModuleList(\n",
      "                (0-1): 2 x MaskedLinear(in_features=128, out_features=128, bias=True)\n",
      "              )\n",
      "              (activation): ReLU()\n",
      "              (dropout): Dropout(p=0.0, inplace=False)\n",
      "            )\n",
      "          )\n",
      "          (final_layer): MaskedLinear(in_features=128, out_features=54096, bias=True)\n",
      "        )\n",
      "      )\n",
      "    )\n",
      "  )\n",
      ")\n"
     ]
    }
   ],
   "source": [
    "# sample from the trained encoder\n",
    "encoder = model.encoder\n",
    "print(encoder.causalq0)"
   ]
  },
  {
   "cell_type": "code",
   "execution_count": 94,
   "id": "4ee11c8d-42d1-47d8-8f10-bcfc2e4a9fa6",
   "metadata": {},
   "outputs": [
    {
     "ename": "TypeError",
     "evalue": "BaseDistribution.sample() takes from 1 to 2 positional arguments but 3 were given",
     "output_type": "error",
     "traceback": [
      "\u001b[0;31m---------------------------------------------------------------------------\u001b[0m",
      "\u001b[0;31mTypeError\u001b[0m                                 Traceback (most recent call last)",
      "Cell \u001b[0;32mIn[94], line 1\u001b[0m\n\u001b[0;32m----> 1\u001b[0m \u001b[38;5;28mprint\u001b[39m(\u001b[43mencoder\u001b[49m\u001b[38;5;241;43m.\u001b[39;49m\u001b[43msample\u001b[49m\u001b[43m(\u001b[49m\u001b[43m)\u001b[49m[\u001b[38;5;241m0\u001b[39m]\u001b[38;5;241m.\u001b[39mshape)\n",
      "File \u001b[0;32m~/Documents/CDRL/gendis/encoder.py:192\u001b[0m, in \u001b[0;36mCausalMultiscaleFlow.sample\u001b[0;34m(self, num_samples, intervention_targets, hard_interventions, temperature)\u001b[0m\n\u001b[1;32m    189\u001b[0m     \u001b[38;5;28mself\u001b[39m\u001b[38;5;241m.\u001b[39mset_temperature(temperature)\n\u001b[1;32m    191\u001b[0m \u001b[38;5;66;03m# first sample from the causal distribution\u001b[39;00m\n\u001b[0;32m--> 192\u001b[0m z_, log_q_ \u001b[38;5;241m=\u001b[39m \u001b[38;5;28;43mself\u001b[39;49m\u001b[38;5;241;43m.\u001b[39;49m\u001b[43mcausalq0\u001b[49m\u001b[38;5;241;43m.\u001b[39;49m\u001b[43mforward\u001b[49m\u001b[43m(\u001b[49m\n\u001b[1;32m    193\u001b[0m \u001b[43m    \u001b[49m\u001b[43mnum_samples\u001b[49m\u001b[43m,\u001b[49m\n\u001b[1;32m    194\u001b[0m \u001b[43m    \u001b[49m\u001b[43mintervention_targets\u001b[49m\u001b[38;5;241;43m=\u001b[39;49m\u001b[43mintervention_targets\u001b[49m\u001b[43m,\u001b[49m\n\u001b[1;32m    195\u001b[0m \u001b[43m    \u001b[49m\u001b[43mhard_interventions\u001b[49m\u001b[38;5;241;43m=\u001b[39;49m\u001b[43mhard_interventions\u001b[49m\u001b[43m,\u001b[49m\n\u001b[1;32m    196\u001b[0m \u001b[43m\u001b[49m\u001b[43m)\u001b[49m\n\u001b[1;32m    198\u001b[0m reshaped_z_ \u001b[38;5;241m=\u001b[39m []\n\u001b[1;32m    199\u001b[0m \u001b[38;5;28;01mfor\u001b[39;00m i \u001b[38;5;129;01min\u001b[39;00m \u001b[38;5;28mrange\u001b[39m(\u001b[38;5;28mself\u001b[39m\u001b[38;5;241m.\u001b[39mnum_levels):\n",
      "File \u001b[0;32m~/Documents/CDRL/gendis/normalizing_flow/distribution.py:468\u001b[0m, in \u001b[0;36mNonparametricClusteredCausalDistribution.forward\u001b[0;34m(self, num_samples, intervention_targets, hard_interventions)\u001b[0m\n\u001b[1;32m    465\u001b[0m samples \u001b[38;5;241m=\u001b[39m torch\u001b[38;5;241m.\u001b[39mzeros((num_samples, \u001b[38;5;28mself\u001b[39m\u001b[38;5;241m.\u001b[39mlatent_dim), device\u001b[38;5;241m=\u001b[39mdevice)\n\u001b[1;32m    467\u001b[0m \u001b[38;5;66;03m# we will sample the base distribution\u001b[39;00m\n\u001b[0;32m--> 468\u001b[0m samples \u001b[38;5;241m=\u001b[39m \u001b[38;5;28;43mself\u001b[39;49m\u001b[38;5;241;43m.\u001b[39;49m\u001b[43mq0\u001b[49m\u001b[38;5;241;43m.\u001b[39;49m\u001b[43msample\u001b[49m\u001b[43m(\u001b[49m\u001b[43mnum_samples\u001b[49m\u001b[43m,\u001b[49m\u001b[43m \u001b[49m\u001b[43mintervention_targets\u001b[49m\u001b[43m)\u001b[49m\n",
      "\u001b[0;31mTypeError\u001b[0m: BaseDistribution.sample() takes from 1 to 2 positional arguments but 3 were given"
     ]
    }
   ],
   "source": [
    "print(encoder.sample()[0].shape)"
   ]
  },
  {
   "cell_type": "code",
   "execution_count": 69,
   "id": "1591c2f8-3c7b-4dbf-9f26-6a47aefe0f71",
   "metadata": {},
   "outputs": [
    {
     "data": {
      "image/png": "[encoded data removed]",
      "text/plain": [
       "<Figure size 600x150 with 1 Axes>"
      ]
     },
     "metadata": {},
     "output_type": "display_data"
    }
   ],
   "source": [
    "obs_imgs = encoder.sample(num_samples=4)[0]\n",
    "\n",
    "new_obs_imgs = torch.zeros_like(obs_imgs)\n",
    "for idx, image in enumerate(obs_imgs):\n",
    "    image = (image - image.min()) / (image.max() - image.min())\n",
    "    new_obs_imgs[idx, ...] = image\n",
    "    \n",
    "show_imgs(new_obs_imgs, title='Obs')"
   ]
  },
  {
   "cell_type": "code",
   "execution_count": 70,
   "id": "63308630-3bae-4c73-ae30-0ebd03343ea6",
   "metadata": {},
   "outputs": [
    {
     "data": {
      "image/png": "[encoded data removed]",
      "text/plain": [
       "<Figure size 600x150 with 1 Axes>"
      ]
     },
     "metadata": {},
     "output_type": "display_data"
    }
   ],
   "source": [
    "obs_imgs = encoder.sample(num_samples=4, intervention_targets=torch.Tensor([0, 0, 1]))[0]\n",
    "\n",
    "new_obs_imgs = torch.zeros_like(obs_imgs)\n",
    "for idx, image in enumerate(obs_imgs):\n",
    "    image = (image - image.min()) / (image.max() - image.min())\n",
    "    new_obs_imgs[idx, ...] = image\n",
    "    \n",
    "show_imgs(new_obs_imgs, title='Color')"
   ]
  },
  {
   "cell_type": "code",
   "execution_count": 72,
   "id": "7eceb074-115a-489b-b171-bcad545a2d76",
   "metadata": {},
   "outputs": [
    {
     "data": {
      "image/png": "[encoded data removed]",
      "text/plain": [
       "<Figure size 600x150 with 1 Axes>"
      ]
     },
     "metadata": {},
     "output_type": "display_data"
    }
   ],
   "source": [
    "obs_imgs = encoder.sample(num_samples=4, intervention_targets=torch.Tensor([1, 0, 0]))[0]\n",
    "\n",
    "new_obs_imgs = torch.zeros_like(obs_imgs)\n",
    "for idx, image in enumerate(obs_imgs):\n",
    "    image = (image - image.min()) / (image.max() - image.min())\n",
    "    new_obs_imgs[idx, ...] = image\n",
    "    \n",
    "show_imgs(new_obs_imgs, title='Width')"
   ]
  },
  {
   "cell_type": "markdown",
   "id": "bac97e42-f90b-4c19-b09f-9c1ff0267340",
   "metadata": {},
   "source": [
    "# Load a Checkpoint and see"
   ]
  },
  {
   "cell_type": "code",
   "execution_count": 98,
   "id": "a267ef58-fa7b-4b59-a9e1-0bc61df13a04",
   "metadata": {},
   "outputs": [
    {
     "name": "stderr",
     "output_type": "stream",
     "text": [
      "/Users/adam2392/miniforge3/envs/cdrl/lib/python3.10/site-packages/pytorch_lightning/utilities/parsing.py:269: UserWarning: Attribute 'encoder' is an instance of `nn.Module` and is already saved during checkpointing. It is recommended to ignore them using `self.save_hyperparameters(ignore=['encoder'])`.\n",
      "  rank_zero_warn(\n"
     ]
    }
   ],
   "source": [
    "seed=2\n",
    "graph_type='chain'\n",
    "epoch=408\n",
    "step=8589\n",
    "results_dir = Path(f'/Users/adam2392/pytorch_data/data/{graph_type}-seed={seed}/')\n",
    "checkpoint_fname = results_dir / f'epoch={epoch}-step={step}.ckpt'\n",
    "model = NeuralClusteredASCMFlow.load_from_checkpoint(checkpoint_fname)"
   ]
  },
  {
   "cell_type": "code",
   "execution_count": 101,
   "id": "696a844d-9999-4340-be0b-35e8e9345122",
   "metadata": {
    "scrolled": true
   },
   "outputs": [
    {
     "name": "stdout",
     "output_type": "stream",
     "text": [
      "ClusteredCausalDistribution(\n",
      "  (coeff_values): ParameterList(\n",
      "      (0): Object of type: ParameterList\n",
      "      (1): Object of type: ParameterList\n",
      "      (2): Object of type: ParameterList\n",
      "    (0): ParameterList(  (0): Parameter containing: [torch.float32 of size 784])\n",
      "    (1): ParameterList(\n",
      "        (0): Parameter containing: [torch.float32 of size 784]\n",
      "        (1): Parameter containing: [torch.float32 of size 784]\n",
      "    )\n",
      "    (2): ParameterList(\n",
      "        (0): Parameter containing: [torch.float32 of size 784]\n",
      "        (1): Parameter containing: [torch.float32 of size 784]\n",
      "    )\n",
      "  )\n",
      "  (noise_means): ParameterList(\n",
      "      (0): Object of type: ParameterList\n",
      "      (1): Object of type: ParameterList\n",
      "      (2): Object of type: ParameterList\n",
      "      (3): Object of type: ParameterList\n",
      "    (0): ParameterList(\n",
      "        (0): Parameter containing: [torch.float32 of size 784]\n",
      "        (1): Parameter containing: [torch.float32 of size 784]\n",
      "        (2): Parameter containing: [torch.float32 of size 784]\n",
      "    )\n",
      "    (1): ParameterList(\n",
      "        (0): Parameter containing: [torch.float32 of size 784]\n",
      "        (1): Parameter containing: [torch.float32 of size 784]\n",
      "        (2): Parameter containing: [torch.float32 of size 784]\n",
      "    )\n",
      "    (2): ParameterList(\n",
      "        (0): Parameter containing: [torch.float32 of size 784]\n",
      "        (1): Parameter containing: [torch.float32 of size 784]\n",
      "        (2): Parameter containing: [torch.float32 of size 784]\n",
      "    )\n",
      "    (3): ParameterList(\n",
      "        (0): Parameter containing: [torch.float32 of size 784]\n",
      "        (1): Parameter containing: [torch.float32 of size 784]\n",
      "        (2): Parameter containing: [torch.float32 of size 784]\n",
      "    )\n",
      "  )\n",
      "  (noise_stds): ParameterList(\n",
      "      (0): Object of type: ParameterList\n",
      "      (1): Object of type: ParameterList\n",
      "      (2): Object of type: ParameterList\n",
      "      (3): Object of type: ParameterList\n",
      "    (0): ParameterList(\n",
      "        (0): Parameter containing: [torch.float32 of size 784]\n",
      "        (1): Parameter containing: [torch.float32 of size 784]\n",
      "        (2): Parameter containing: [torch.float32 of size 784]\n",
      "    )\n",
      "    (1): ParameterList(\n",
      "        (0): Parameter containing: [torch.float32 of size 784]\n",
      "        (1): Parameter containing: [torch.float32 of size 784]\n",
      "        (2): Parameter containing: [torch.float32 of size 784]\n",
      "    )\n",
      "    (2): ParameterList(\n",
      "        (0): Parameter containing: [torch.float32 of size 784]\n",
      "        (1): Parameter containing: [torch.float32 of size 784]\n",
      "        (2): Parameter containing: [torch.float32 of size 784]\n",
      "    )\n",
      "    (3): ParameterList(\n",
      "        (0): Parameter containing: [torch.float32 of size 784]\n",
      "        (1): Parameter containing: [torch.float32 of size 784]\n",
      "        (2): Parameter containing: [torch.float32 of size 784]\n",
      "    )\n",
      "  )\n",
      ")\n"
     ]
    }
   ],
   "source": [
    "encoder= model.encoder\n",
    "\n",
    "print(encoder.causalq0)"
   ]
  },
  {
   "cell_type": "code",
   "execution_count": 103,
   "id": "67b46013-3987-4834-bad0-f7a448a9dced",
   "metadata": {},
   "outputs": [
    {
     "name": "stdout",
     "output_type": "stream",
     "text": [
      "torch.Size([1, 2352])\n"
     ]
    }
   ],
   "source": [
    "# run a test to make sure this actually works\n",
    "rand_img = torch.arange(28*28*3, dtype=torch.float32).view(1, 3, 28, 28)\n",
    "out = encoder.forward(rand_img)\n",
    "print(encoder.inverse_and_log_det(rand_img)[0].shape)"
   ]
  },
  {
   "cell_type": "code",
   "execution_count": 104,
   "id": "95d59be5-829e-4de0-becd-28f8e563abfd",
   "metadata": {},
   "outputs": [
    {
     "data": {
      "image/png": "[encoded data removed]",
      "text/plain": [
       "<Figure size 600x150 with 1 Axes>"
      ]
     },
     "metadata": {},
     "output_type": "display_data"
    }
   ],
   "source": [
    "obs_imgs = encoder.sample(num_samples=4)[0]\n",
    "\n",
    "new_obs_imgs = torch.zeros_like(obs_imgs)\n",
    "for idx, image in enumerate(obs_imgs):\n",
    "    image = (image - image.min()) / (image.max() - image.min())\n",
    "    new_obs_imgs[idx, ...] = image\n",
    "    \n",
    "show_imgs(new_obs_imgs, title='Obs')"
   ]
  },
  {
   "cell_type": "code",
   "execution_count": 105,
   "id": "e2ad4e2a-5abe-490b-bd4e-f9e2ff92f1d8",
   "metadata": {},
   "outputs": [
    {
     "data": {
      "image/png": "[encoded data removed]",
      "text/plain": [
       "<Figure size 600x150 with 1 Axes>"
      ]
     },
     "metadata": {},
     "output_type": "display_data"
    }
   ],
   "source": [
    "obs_imgs = encoder.sample(num_samples=4, intervention_targets=torch.Tensor([0, 0, 1]))[0]\n",
    "\n",
    "new_obs_imgs = torch.zeros_like(obs_imgs)\n",
    "for idx, image in enumerate(obs_imgs):\n",
    "    image = (image - image.min()) / (image.max() - image.min())\n",
    "    new_obs_imgs[idx, ...] = image\n",
    "    \n",
    "show_imgs(new_obs_imgs, title='Color')"
   ]
  },
  {
   "cell_type": "markdown",
   "id": "74836e74-5979-488e-9262-41907833ad29",
   "metadata": {},
   "source": [
    "# VAE Inspection"
   ]
  },
  {
   "cell_type": "code",
   "execution_count": 6,
   "id": "d1b87305-ef4c-4121-a91f-dc9c8e3039aa",
   "metadata": {},
   "outputs": [],
   "source": [
    "import torch.nn as nn\n",
    "import torchvision"
   ]
  },
  {
   "cell_type": "code",
   "execution_count": 7,
   "id": "f31ccde6-aafd-48c8-9b61-d721b4b2a839",
   "metadata": {},
   "outputs": [],
   "source": [
    "\n",
    "class Stack(nn.Module):\n",
    "    def __init__(self, channels, height, width):\n",
    "        super(Stack, self).__init__()\n",
    "        self.channels = channels\n",
    "        self.height = height\n",
    "        self.width = width\n",
    "\n",
    "    def forward(self, x):\n",
    "        print(x.shape)\n",
    "        return x.view(x.size(0), self.channels, self.height, self.width)\n",
    "\n",
    "\n",
    "# Stride 2 by default\n",
    "def ConvBlock(in_channels, out_channels, kernel_size):\n",
    "    return nn.Sequential(\n",
    "        nn.Conv2d(\n",
    "            in_channels=in_channels, out_channels=out_channels, kernel_size=kernel_size, stride=2\n",
    "        ),\n",
    "        nn.BatchNorm2d(out_channels),\n",
    "        nn.ReLU(),\n",
    "    )\n",
    "\n",
    "\n",
    "# Stride 2 by default\n",
    "def DeconvBlock(\n",
    "    in_channels, out_channels, kernel_size, stride=2, padding=1, output_padding=1, last=False\n",
    "):\n",
    "    if not last:\n",
    "        return nn.Sequential(\n",
    "            nn.ConvTranspose2d(\n",
    "                in_channels=in_channels,\n",
    "                out_channels=out_channels,\n",
    "                kernel_size=kernel_size,\n",
    "                stride=stride,\n",
    "                padding=padding,\n",
    "                output_padding=output_padding,\n",
    "            ),\n",
    "            nn.BatchNorm2d(out_channels),\n",
    "            nn.ReLU(),\n",
    "        )\n",
    "    return nn.Sequential(\n",
    "        nn.ConvTranspose2d(\n",
    "            in_channels=in_channels,\n",
    "            out_channels=out_channels,\n",
    "            kernel_size=kernel_size,\n",
    "            stride=stride,\n",
    "            padding=padding,\n",
    "            output_padding=output_padding,\n",
    "        ),\n",
    "        nn.Tanh(),\n",
    "    )"
   ]
  },
  {
   "cell_type": "code",
   "execution_count": 8,
   "id": "239c21ae-5070-495d-bb06-26c3c660aa1e",
   "metadata": {},
   "outputs": [],
   "source": [
    "seed=1\n",
    "graph_type='chain'\n",
    "\n",
    "results_dir = Path(f'/Users/adam2392/pytorch_data/data/variational/vae-{graph_type}-seed={seed}/')\n",
    "model_fname = f'vae-{graph_type}-seed={seed}-model.pt'\n",
    "model = torch.load(results_dir / model_fname, map_location=torch.device('cpu'))"
   ]
  },
  {
   "cell_type": "code",
   "execution_count": 12,
   "id": "4e393add-fef7-4ece-9171-93f924741dd0",
   "metadata": {},
   "outputs": [
    {
     "name": "stdout",
     "output_type": "stream",
     "text": [
      "Sequential(\n",
      "  (0): Linear(in_features=3, out_features=1024, bias=True)\n",
      "  (1): Stack()\n",
      "  (2): Sequential(\n",
      "    (0): ConvTranspose2d(256, 128, kernel_size=(4, 4), stride=(2, 2), padding=(1, 1))\n",
      "    (1): BatchNorm2d(128, eps=1e-05, momentum=0.1, affine=True, track_running_stats=True)\n",
      "    (2): ReLU()\n",
      "  )\n",
      "  (3): Sequential(\n",
      "    (0): ConvTranspose2d(128, 64, kernel_size=(4, 4), stride=(2, 2), padding=(1, 1))\n",
      "    (1): BatchNorm2d(64, eps=1e-05, momentum=0.1, affine=True, track_running_stats=True)\n",
      "    (2): ReLU()\n",
      "  )\n",
      "  (4): Sequential(\n",
      "    (0): ConvTranspose2d(64, 28, kernel_size=(4, 4), stride=(2, 2), padding=(1, 1))\n",
      "    (1): BatchNorm2d(28, eps=1e-05, momentum=0.1, affine=True, track_running_stats=True)\n",
      "    (2): ReLU()\n",
      "  )\n",
      "  (5): Sequential(\n",
      "    (0): ConvTranspose2d(28, 3, kernel_size=(3, 3), stride=(2, 2), padding=(3, 3), output_padding=(1, 1))\n",
      "    (1): Tanh()\n",
      "  )\n",
      ")\n"
     ]
    }
   ],
   "source": [
    "print(model.decoder)"
   ]
  },
  {
   "cell_type": "code",
   "execution_count": 25,
   "id": "0e9d45d4-e2d0-4f09-8700-2edba13ad379",
   "metadata": {},
   "outputs": [
    {
     "name": "stdout",
     "output_type": "stream",
     "text": [
      "torch.Size([4, 1024])\n",
      "torch.Size([4, 3, 28, 28])\n"
     ]
    }
   ],
   "source": [
    "# sample from normal distribution\n",
    "noise = torch.randn(4, 3)\n",
    "obs_imgs = model.decoder(noise).reshape(4, 3, 28, 28)\n",
    "print(obs_imgs.shape)"
   ]
  },
  {
   "cell_type": "code",
   "execution_count": null,
   "id": "d6664543-656a-4623-a7bc-a1c098b5ecf0",
   "metadata": {},
   "outputs": [],
   "source": []
  },
  {
   "cell_type": "code",
   "execution_count": 27,
   "id": "b77f7fa0-bf15-4047-a2ec-f67b7929f7e3",
   "metadata": {},
   "outputs": [
    {
     "name": "stderr",
     "output_type": "stream",
     "text": [
      "Clipping input data to the valid range for imshow with RGB data ([0..1] for floats or [0..255] for integers).\n"
     ]
    },
    {
     "data": {
      "image/png": "[encoded data removed]",
      "text/plain": [
       "<Figure size 600x150 with 1 Axes>"
      ]
     },
     "metadata": {},
     "output_type": "display_data"
    }
   ],
   "source": [
    "new_obs_imgs = torch.zeros_like(obs_imgs)\n",
    "for idx, image in enumerate(obs_imgs):\n",
    "    image = (image - image.min()) / (image.max() - image.min())\n",
    "    new_obs_imgs[idx, ...] = image\n",
    "    \n",
    "show_imgs(obs_imgs, title='Obs')"
   ]
  },
  {
   "cell_type": "code",
   "execution_count": 29,
   "id": "410d82b0-afca-4cc7-b501-b6939b28c9ac",
   "metadata": {},
   "outputs": [
    {
     "name": "stdout",
     "output_type": "stream",
     "text": [
      "tensor(-1., grad_fn=<MaxBackward1>) tensor(-1., grad_fn=<MinBackward1>)\n"
     ]
    }
   ],
   "source": [
    "print(obs_imgs.max(), obs_imgs.min())"
   ]
  },
  {
   "cell_type": "code",
   "execution_count": null,
   "id": "0fa230ef-288c-4ef6-aecc-838153e5ee65",
   "metadata": {},
   "outputs": [],
   "source": []
  }
 ],
 "metadata": {
  "kernelspec": {
   "display_name": "cdrl",
   "language": "python",
   "name": "cdrl"
  },
  "language_info": {
   "codemirror_mode": {
    "name": "ipython",
    "version": 3
   },
   "file_extension": ".py",
   "mimetype": "text/x-python",
   "name": "python",
   "nbconvert_exporter": "python",
   "pygments_lexer": "ipython3",
   "version": "3.10.14"
  }
 },
 "nbformat": 4,
 "nbformat_minor": 5
}
