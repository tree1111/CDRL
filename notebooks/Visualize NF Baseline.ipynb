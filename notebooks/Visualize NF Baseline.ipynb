{
 "cells": [
  {
   "cell_type": "markdown",
   "id": "1e0a7533-36c3-4f68-80b9-7dd819f37195",
   "metadata": {},
   "source": [
    "# Baseline results: Normalizing Flow with Glow Blocks\n",
    "\n",
    "As a baseline, we have a NF model without causal understanding. That is, we do not impose a prior distribution that adheres to the causal model implied by the latent causal graph. In addition, we do not maximize the likelihood across the different distributions, but treat the entire dataset as a single distribution."
   ]
  },
  {
   "cell_type": "code",
   "execution_count": 1,
   "id": "3560345b-5b75-497d-af10-1eb8958e53d6",
   "metadata": {},
   "outputs": [
    {
     "name": "stderr",
     "output_type": "stream",
     "text": [
      "/Users/adam2392/miniforge3/envs/cdrl/lib/python3.10/site-packages/pl_bolts/__init__.py:11: FutureWarning: In the future `np.object` will be defined as the corresponding NumPy scalar.\n",
      "  if not hasattr(numpy, tp_name):\n",
      "/Users/adam2392/miniforge3/envs/cdrl/lib/python3.10/site-packages/pl_bolts/__init__.py:11: FutureWarning: In the future `np.bool` will be defined as the corresponding NumPy scalar.\n",
      "  if not hasattr(numpy, tp_name):\n",
      "/Users/adam2392/miniforge3/envs/cdrl/lib/python3.10/site-packages/pl_bolts/models/self_supervised/amdim/amdim_module.py:34: UnderReviewWarning: The feature generate_power_seq is currently marked under review. The compatibility with other Lightning projects is not guaranteed and API may change at any time. The API and functionality may change without warning in future releases. More details: https://lightning-bolts.readthedocs.io/en/latest/stability.html\n",
      "  \"lr_options\": generate_power_seq(LEARNING_RATE_CIFAR, 11),\n",
      "/Users/adam2392/miniforge3/envs/cdrl/lib/python3.10/site-packages/pl_bolts/models/self_supervised/amdim/amdim_module.py:92: UnderReviewWarning: The feature FeatureMapContrastiveTask is currently marked under review. The compatibility with other Lightning projects is not guaranteed and API may change at any time. The API and functionality may change without warning in future releases. More details: https://lightning-bolts.readthedocs.io/en/latest/stability.html\n",
      "  contrastive_task: Union[FeatureMapContrastiveTask] = FeatureMapContrastiveTask(\"01, 02, 11\"),\n",
      "/Users/adam2392/miniforge3/envs/cdrl/lib/python3.10/site-packages/pl_bolts/losses/self_supervised_learning.py:228: UnderReviewWarning: The feature AmdimNCELoss is currently marked under review. The compatibility with other Lightning projects is not guaranteed and API may change at any time. The API and functionality may change without warning in future releases. More details: https://lightning-bolts.readthedocs.io/en/latest/stability.html\n",
      "  self.nce_loss = AmdimNCELoss(tclip)\n"
     ]
    }
   ],
   "source": [
    "import math\n",
    "import os\n",
    "from copy import deepcopy\n",
    "from pathlib import Path\n",
    "\n",
    "import matplotlib.pyplot as plt\n",
    "import normflows as nf\n",
    "import numpy as np\n",
    "import pytorch_lightning as pl\n",
    "import seaborn as sns\n",
    "import torch\n",
    "import torch.nn as nn\n",
    "import torchvision\n",
    "import torchvision.datasets.utils as dataset_utils\n",
    "from PIL import Image\n",
    "from pl_bolts.models.autoencoders.components import resnet18_decoder, resnet18_encoder\n",
    "from torchvision import datasets, transforms\n",
    "from torchvision.datasets import MNIST\n",
    "from torchvision.transforms import ToTensor\n",
    "\n",
    "from gendis.datasets import CausalMNIST, ClusteredMultiDistrDataModule\n",
    "from gendis.model import NeuralClusteredASCMFlow\n",
    "from gendis.noncausal.flows import (\n",
    "    CouplingLayer,\n",
    "    Dequantization,\n",
    "    GatedConvNet,\n",
    "    Reshape,\n",
    "    SplitFlow,\n",
    "    SqueezeFlow,\n",
    "    VariationalDequantization,\n",
    "    create_channel_mask,\n",
    "    create_checkerboard_mask,\n",
    ")\n",
    "from gendis.noncausal.model import ImageFlow\n",
    "from gendis.variational.vae import VAE"
   ]
  },
  {
   "cell_type": "code",
   "execution_count": 2,
   "id": "a778e578-dcfc-4970-b467-d04211426e18",
   "metadata": {},
   "outputs": [],
   "source": [
    "def show_imgs(imgs, title=None, row_size=4):\n",
    "    # Form a grid of pictures (we use max. 8 columns)\n",
    "    num_imgs = imgs.shape[0] if isinstance(imgs, torch.Tensor) else len(imgs)\n",
    "    is_int = (\n",
    "        imgs.dtype == torch.int32\n",
    "        if isinstance(imgs, torch.Tensor)\n",
    "        else imgs[0].dtype == torch.int32\n",
    "    )\n",
    "    nrow = min(num_imgs, row_size)\n",
    "    ncol = int(math.ceil(num_imgs / nrow))\n",
    "    imgs = torchvision.utils.make_grid(\n",
    "        imgs, nrow=nrow, pad_value=128 if is_int else 0.5\n",
    "    )\n",
    "    np_imgs = imgs.cpu().numpy()\n",
    "    # Plot the grid\n",
    "    plt.figure(figsize=(1.5 * nrow, 1.5 * ncol))\n",
    "    plt.imshow(np.transpose(np_imgs, (1, 2, 0)), interpolation=\"nearest\")\n",
    "    plt.axis(\"off\")\n",
    "    if title is not None:\n",
    "        plt.title(title)\n",
    "    plt.show()\n",
    "    plt.close()"
   ]
  },
  {
   "cell_type": "code",
   "execution_count": 47,
   "id": "1936d156-429c-410a-8bc6-b30bfe1be8ae",
   "metadata": {
    "scrolled": true
   },
   "outputs": [],
   "source": [
    "seed = 1\n",
    "graph_type = \"chain\"\n",
    "epoch = 2093\n",
    "step = 43974\n",
    "results_dir = Path(\n",
    "    f\"/Users/adam2392/pytorch_data/data/noncausalflow/nf-notransform-clipgrad-batch1024-{graph_type}-seed={seed}/\"\n",
    ")\n",
    "\n",
    "seed = 2\n",
    "epoch = 849\n",
    "step = 17850\n",
    "results_dir = Path(\n",
    "    f\"/Users/adam2392/pytorch_data/data/noncausalflow/nf-noquant-channelmasking-batch1024-{graph_type}-seed={seed}/\"\n",
    ")\n",
    "\n",
    "# multi-scale\n",
    "seed = 1\n",
    "epoch = 2927\n",
    "step = 245952\n",
    "results_dir = Path(\n",
    "    f\"/Users/adam2392/pytorch_data/data/noncausalflow/nf-3point1M-batch256-{graph_type}-seed={seed}/\"\n",
    ")\n",
    "\n",
    "# multi-scale w/ 256 batch size\n",
    "seed = 2\n",
    "epoch = 7603\n",
    "step = 638736\n",
    "results_dir = Path(\n",
    "    f\"/Users/adam2392/pytorch_data/data/noncausalflow/nf-3point1M-cosinelr-batch256-{graph_type}-seed={seed}/\"\n",
    ")\n",
    "\n",
    "checkpoint_fname = results_dir / f\"epoch={epoch}-step={step}.ckpt\"\n",
    "model = ImageFlow.load_from_checkpoint(checkpoint_fname)"
   ]
  },
  {
   "cell_type": "code",
   "execution_count": 48,
   "id": "48dd5791-83b1-4eee-b7e2-0918fb0d3986",
   "metadata": {},
   "outputs": [
    {
     "name": "stdout",
     "output_type": "stream",
     "text": [
      "\n",
      "\n",
      "Inside image flow...\n",
      "torch.Size([16, 12, 7, 7])\n",
      "Running:  <class 'gendis.noncausal.flows.CouplingLayer'> torch.Size([16, 12, 7, 7])\n",
      "Running:  <class 'gendis.noncausal.flows.CouplingLayer'> torch.Size([16, 12, 7, 7])\n",
      "Running:  <class 'gendis.noncausal.flows.CouplingLayer'> torch.Size([16, 12, 7, 7])\n",
      "Running:  <class 'gendis.noncausal.flows.CouplingLayer'> torch.Size([16, 12, 7, 7])\n",
      "Running:  <class 'gendis.noncausal.flows.SplitFlow'> torch.Size([16, 24, 7, 7])\n",
      "Running:  <class 'gendis.noncausal.flows.CouplingLayer'> torch.Size([16, 24, 7, 7])\n",
      "Running:  <class 'gendis.noncausal.flows.CouplingLayer'> torch.Size([16, 24, 7, 7])\n",
      "Running:  <class 'gendis.noncausal.flows.CouplingLayer'> torch.Size([16, 24, 7, 7])\n",
      "Running:  <class 'gendis.noncausal.flows.CouplingLayer'> torch.Size([16, 24, 7, 7])\n",
      "Running:  <class 'gendis.noncausal.flows.SqueezeFlow'> torch.Size([16, 6, 14, 14])\n",
      "Running:  <class 'gendis.noncausal.flows.SplitFlow'> torch.Size([16, 12, 14, 14])\n",
      "Running:  <class 'gendis.noncausal.flows.CouplingLayer'> torch.Size([16, 12, 14, 14])\n",
      "Running:  <class 'gendis.noncausal.flows.CouplingLayer'> torch.Size([16, 12, 14, 14])\n",
      "Running:  <class 'gendis.noncausal.flows.CouplingLayer'> torch.Size([16, 12, 14, 14])\n",
      "Running:  <class 'gendis.noncausal.flows.CouplingLayer'> torch.Size([16, 12, 14, 14])\n",
      "Running:  <class 'gendis.noncausal.flows.CouplingLayer'> torch.Size([16, 12, 14, 14])\n",
      "Running:  <class 'gendis.noncausal.flows.CouplingLayer'> torch.Size([16, 12, 14, 14])\n",
      "Running:  <class 'gendis.noncausal.flows.CouplingLayer'> torch.Size([16, 12, 14, 14])\n",
      "Running:  <class 'gendis.noncausal.flows.CouplingLayer'> torch.Size([16, 12, 14, 14])\n",
      "Running:  <class 'gendis.noncausal.flows.SqueezeFlow'> torch.Size([16, 3, 28, 28])\n",
      "Running:  <class 'gendis.noncausal.flows.CouplingLayer'> torch.Size([16, 3, 28, 28])\n",
      "Running:  <class 'gendis.noncausal.flows.CouplingLayer'> torch.Size([16, 3, 28, 28])\n",
      "Running:  <class 'gendis.noncausal.flows.CouplingLayer'> torch.Size([16, 3, 28, 28])\n"
     ]
    },
    {
     "name": "stderr",
     "output_type": "stream",
     "text": [
      "Clipping input data to the valid range for imshow with RGB data ([0..1] for floats or [0..255] for integers).\n"
     ]
    },
    {
     "name": "stdout",
     "output_type": "stream",
     "text": [
      "Running:  <class 'gendis.noncausal.flows.CouplingLayer'> torch.Size([16, 3, 28, 28])\n",
      "Running:  <class 'gendis.noncausal.flows.CouplingLayer'> torch.Size([16, 3, 28, 28])\n",
      "Running:  <class 'gendis.noncausal.flows.CouplingLayer'> torch.Size([16, 3, 28, 28])\n",
      "Running:  <class 'gendis.noncausal.flows.CouplingLayer'> torch.Size([16, 3, 28, 28])\n",
      "Running:  <class 'gendis.noncausal.flows.CouplingLayer'> torch.Size([16, 3, 28, 28])\n"
     ]
    },
    {
     "data": {
      "image/png": "[encoded data removed]",
      "text/plain": [
       "<Figure size 600x600 with 1 Axes>"
      ]
     },
     "metadata": {},
     "output_type": "display_data"
    }
   ],
   "source": [
    "obs_imgs = model.sample(img_shape=[16, 12, 7, 7])\n",
    "new_obs_imgs = torch.zeros_like(obs_imgs)\n",
    "for idx, whole_image in enumerate(obs_imgs):\n",
    "    for color_idx in range(3):\n",
    "        # print(image.min(), image.max())\n",
    "        image = whole_image[color_idx, ...]\n",
    "        new_image = (image - image.min()) / (image.max() - image.min())\n",
    "        new_obs_imgs[idx, color_idx, ...] = new_image\n",
    "show_imgs(obs_imgs, title=\"Obs\")"
   ]
  },
  {
   "cell_type": "code",
   "execution_count": 36,
   "id": "a1005bb9-3649-4ef5-88f8-57b362410b02",
   "metadata": {},
   "outputs": [
    {
     "name": "stdout",
     "output_type": "stream",
     "text": [
      "Running:  <class 'gendis.noncausal.flows.Reshape'> torch.Size([5, 24, 7, 7])\n",
      "Running:  <class 'gendis.noncausal.flows.CouplingLayer'> torch.Size([5, 24, 7, 7])\n",
      "Running:  <class 'gendis.noncausal.flows.CouplingLayer'> torch.Size([5, 24, 7, 7])\n",
      "Running:  <class 'gendis.noncausal.flows.CouplingLayer'> torch.Size([5, 24, 7, 7])\n",
      "Running:  <class 'gendis.noncausal.flows.CouplingLayer'> torch.Size([5, 24, 7, 7])\n",
      "Running:  <class 'gendis.noncausal.flows.SqueezeFlow'> torch.Size([5, 6, 14, 14])\n",
      "Running:  <class 'gendis.noncausal.flows.SplitFlow'> torch.Size([5, 12, 14, 14])\n",
      "Running:  <class 'gendis.noncausal.flows.CouplingLayer'> torch.Size([5, 12, 14, 14])\n",
      "Running:  <class 'gendis.noncausal.flows.CouplingLayer'> torch.Size([5, 12, 14, 14])\n",
      "Running:  <class 'gendis.noncausal.flows.CouplingLayer'> torch.Size([5, 12, 14, 14])\n",
      "Running:  <class 'gendis.noncausal.flows.CouplingLayer'> torch.Size([5, 12, 14, 14])\n",
      "Running:  <class 'gendis.noncausal.flows.SqueezeFlow'> torch.Size([5, 3, 28, 28])\n",
      "Running:  <class 'gendis.noncausal.flows.CouplingLayer'> torch.Size([5, 3, 28, 28])\n",
      "Running:  <class 'gendis.noncausal.flows.CouplingLayer'> torch.Size([5, 3, 28, 28])\n",
      "Running:  <class 'gendis.noncausal.flows.CouplingLayer'> torch.Size([5, 3, 28, 28])\n",
      "Running:  <class 'gendis.noncausal.flows.CouplingLayer'> torch.Size([5, 3, 28, 28])\n"
     ]
    }
   ],
   "source": [
    "img_scale_shape = (5, 24, 7, 7)\n",
    "prior = torch.distributions.normal.Normal(loc=0.0, scale=1.0)\n",
    "output = prior.sample(img_scale_shape)\n",
    "ldj = torch.zeros(img_scale_shape[0])\n",
    "for flow in reversed(model.flows):\n",
    "    output, ldj = flow(output, ldj, reverse=True)\n",
    "    print(\"Running: \", type(flow), output.shape)"
   ]
  },
  {
   "cell_type": "code",
   "execution_count": 37,
   "id": "0329bbdd-57ce-4fd1-9335-c7867fd42595",
   "metadata": {},
   "outputs": [
    {
     "name": "stderr",
     "output_type": "stream",
     "text": [
      "Clipping input data to the valid range for imshow with RGB data ([0..1] for floats or [0..255] for integers).\n"
     ]
    },
    {
     "data": {
      "image/png": "[encoded data removed]",
      "text/plain": [
       "<Figure size 600x300 with 1 Axes>"
      ]
     },
     "metadata": {},
     "output_type": "display_data"
    }
   ],
   "source": [
    "show_imgs(output, title=\"Obs\")"
   ]
  },
  {
   "cell_type": "code",
   "execution_count": 38,
   "id": "a43e00e9-b4a4-4658-a2a0-feef854b36a4",
   "metadata": {},
   "outputs": [
    {
     "data": {
      "text/plain": [
       "<Axes: ylabel='Count'>"
      ]
     },
     "execution_count": 38,
     "metadata": {},
     "output_type": "execute_result"
    },
    {
     "data": {
      "image/png": "[encoded data removed]",
      "text/plain": [
       "<Figure size 640x480 with 1 Axes>"
      ]
     },
     "metadata": {},
     "output_type": "display_data"
    }
   ],
   "source": [
    "sns.histplot(obs_imgs.flatten())"
   ]
  },
  {
   "cell_type": "code",
   "execution_count": 5,
   "id": "08bc6a34-7ec5-4c26-883b-d4ef95e62a17",
   "metadata": {},
   "outputs": [
    {
     "name": "stdout",
     "output_type": "stream",
     "text": [
      "1176\n"
     ]
    }
   ],
   "source": [
    "print(24 * 7 * 7)"
   ]
  },
  {
   "cell_type": "code",
   "execution_count": 6,
   "id": "26a44402-6b3a-4bef-b65b-868fe2789330",
   "metadata": {},
   "outputs": [
    {
     "name": "stdout",
     "output_type": "stream",
     "text": [
      "1176\n"
     ]
    }
   ],
   "source": [
    "print(784 * 3 // 2)"
   ]
  },
  {
   "cell_type": "markdown",
   "id": "5a79cd2c-7d0b-4323-9c63-e84e9e29272f",
   "metadata": {},
   "source": [
    "# Test Multiscal flow"
   ]
  },
  {
   "cell_type": "code",
   "execution_count": 14,
   "id": "d1bff9f1-e02a-4b40-a1a5-6ac9a97a8bb0",
   "metadata": {},
   "outputs": [
    {
     "name": "stderr",
     "output_type": "stream",
     "text": [
      "Global seed set to 42\n"
     ]
    }
   ],
   "source": [
    "# Transformations applied on each image => make them a tensor and discretize\n",
    "transform = transforms.Compose(\n",
    "    [\n",
    "        transforms.ToTensor(),\n",
    "        # nf.utils.Scale(255.0 / 256.0),  # normalize the pixel values\n",
    "        nf.utils.Jitter(1 / 256.0),  # apply random generation\n",
    "        # discretize,\n",
    "    ]\n",
    ")\n",
    "\n",
    "# Loading the training dataset. We need to split it into a training and validation part\n",
    "train_dataset = MNIST(\n",
    "    root=\"/Users/adam2392/pytorch_data/\", train=True, transform=transform, download=True\n",
    ")\n",
    "pl.seed_everything(42)\n",
    "train_set, val_set = torch.utils.data.random_split(train_dataset, [50000, 10000])"
   ]
  },
  {
   "cell_type": "code",
   "execution_count": 26,
   "id": "a6b05032-1ae3-4f7f-b2e7-72dbf1159db3",
   "metadata": {},
   "outputs": [],
   "source": [
    "class CouplingLayer(nn.Module):\n",
    "\n",
    "    def __init__(self, network, mask, c_in):\n",
    "        \"\"\"\n",
    "        Coupling layer inside a normalizing flow.\n",
    "        Inputs:\n",
    "            network - A PyTorch nn.Module constituting the deep neural network for mu and sigma.\n",
    "                      Output shape should be twice the channel size as the input.\n",
    "            mask - Binary mask (0 or 1) where 0 denotes that the element should be transformed,\n",
    "                   while 1 means the latent will be used as input to the NN.\n",
    "            c_in - Number of input channels\n",
    "        \"\"\"\n",
    "        super().__init__()\n",
    "        self.network = network\n",
    "        self.scaling_factor = nn.Parameter(torch.zeros(c_in))\n",
    "        # Register mask as buffer as it is a tensor which is not a parameter,\n",
    "        # but should be part of the modules state.\n",
    "        self.register_buffer(\"mask\", mask)\n",
    "\n",
    "    def forward(self, z, ldj, reverse=False, orig_img=None):\n",
    "        \"\"\"\n",
    "        Inputs:\n",
    "            z - Latent input to the flow\n",
    "            ldj - The current ldj of the previous flows.\n",
    "                  The ldj of this layer will be added to this tensor.\n",
    "            reverse - If True, we apply the inverse of the layer.\n",
    "            orig_img (optional) - Only needed in VarDeq. Allows external\n",
    "                                  input to condition the flow on (e.g. original image)\n",
    "        \"\"\"\n",
    "        # Apply network to masked input\n",
    "        z_in = z * self.mask\n",
    "        if orig_img is None:\n",
    "            nn_out = self.network(z_in)\n",
    "        else:\n",
    "            nn_out = self.network(torch.cat([z_in, orig_img], dim=1))\n",
    "        s, t = nn_out.chunk(2, dim=1)\n",
    "\n",
    "        # Stabilize scaling output\n",
    "        s_fac = self.scaling_factor.exp().view(1, -1, 1, 1)\n",
    "        s = torch.tanh(s / s_fac) * s_fac\n",
    "\n",
    "        # Mask outputs (only transform the second part)\n",
    "        s = s * (1 - self.mask)\n",
    "        t = t * (1 - self.mask)\n",
    "\n",
    "        # Affine transformation\n",
    "        if not reverse:\n",
    "            # Whether we first shift and then scale, or the other way round,\n",
    "            # is a design choice, and usually does not have a big impact\n",
    "            z = (z + t) * torch.exp(s)\n",
    "            ldj += s.sum(dim=[1, 2, 3])\n",
    "        else:\n",
    "            z = (z * torch.exp(-s)) - t\n",
    "            ldj -= s.sum(dim=[1, 2, 3])\n",
    "\n",
    "        return z, ldj\n",
    "\n",
    "\n",
    "def create_multiscale_flow():\n",
    "    flow_layers = []\n",
    "\n",
    "    vardeq_layers = [\n",
    "        CouplingLayer(\n",
    "            network=GatedConvNet(c_in=2, c_out=2, c_hidden=16),\n",
    "            mask=create_checkerboard_mask(h=28, w=28, invert=(i % 2 == 1)),\n",
    "            c_in=1,\n",
    "        )\n",
    "        for i in range(4)\n",
    "    ]\n",
    "    flow_layers += [VariationalDequantization(vardeq_layers)]\n",
    "\n",
    "    flow_layers += [\n",
    "        CouplingLayer(\n",
    "            network=GatedConvNet(c_in=1, c_hidden=32),\n",
    "            mask=create_checkerboard_mask(h=28, w=28, invert=(i % 2 == 1)),\n",
    "            c_in=1,\n",
    "        )\n",
    "        for i in range(2)\n",
    "    ]\n",
    "    flow_layers += [SqueezeFlow()]\n",
    "    for i in range(2):\n",
    "        flow_layers += [\n",
    "            CouplingLayer(\n",
    "                network=GatedConvNet(c_in=4, c_hidden=48),\n",
    "                mask=create_channel_mask(c_in=4, invert=(i % 2 == 1)),\n",
    "                c_in=4,\n",
    "            )\n",
    "        ]\n",
    "    flow_layers += [SplitFlow(), SqueezeFlow()]\n",
    "    for i in range(4):\n",
    "        flow_layers += [\n",
    "            CouplingLayer(\n",
    "                network=GatedConvNet(c_in=8, c_hidden=64),\n",
    "                mask=create_channel_mask(c_in=8, invert=(i % 2 == 1)),\n",
    "                c_in=8,\n",
    "            )\n",
    "        ]\n",
    "\n",
    "    flow_model = ImageFlow(flow_layers)\n",
    "    return flow_model"
   ]
  },
  {
   "cell_type": "code",
   "execution_count": 29,
   "id": "4a120684-5eb2-464e-8880-355722fd8394",
   "metadata": {},
   "outputs": [
    {
     "name": "stdout",
     "output_type": "stream",
     "text": [
      "\n",
      "\n",
      "Inside image flow...\n",
      "torch.Size([5, 24, 7, 7])\n"
     ]
    },
    {
     "ename": "RuntimeError",
     "evalue": "The size of tensor a (24) must match the size of tensor b (8) at non-singleton dimension 1",
     "output_type": "error",
     "traceback": [
      "\u001b[0;31m---------------------------------------------------------------------------\u001b[0m",
      "\u001b[0;31mRuntimeError\u001b[0m                              Traceback (most recent call last)",
      "Cell \u001b[0;32mIn[29], line 2\u001b[0m\n\u001b[1;32m      1\u001b[0m model \u001b[38;5;241m=\u001b[39m create_multiscale_flow()\n\u001b[0;32m----> 2\u001b[0m \u001b[43mmodel\u001b[49m\u001b[38;5;241;43m.\u001b[39;49m\u001b[43msample\u001b[49m\u001b[43m(\u001b[49m\u001b[43m(\u001b[49m\u001b[38;5;241;43m5\u001b[39;49m\u001b[43m,\u001b[49m\u001b[43m \u001b[49m\u001b[38;5;241;43m24\u001b[39;49m\u001b[43m,\u001b[49m\u001b[43m \u001b[49m\u001b[38;5;241;43m7\u001b[39;49m\u001b[43m,\u001b[49m\u001b[43m \u001b[49m\u001b[38;5;241;43m7\u001b[39;49m\u001b[43m)\u001b[49m\u001b[43m)\u001b[49m\n",
      "File \u001b[0;32m~/miniforge3/envs/cdrl/lib/python3.10/site-packages/torch/utils/_contextlib.py:115\u001b[0m, in \u001b[0;36mcontext_decorator.<locals>.decorate_context\u001b[0;34m(*args, **kwargs)\u001b[0m\n\u001b[1;32m    112\u001b[0m \u001b[38;5;129m@functools\u001b[39m\u001b[38;5;241m.\u001b[39mwraps(func)\n\u001b[1;32m    113\u001b[0m \u001b[38;5;28;01mdef\u001b[39;00m \u001b[38;5;21mdecorate_context\u001b[39m(\u001b[38;5;241m*\u001b[39margs, \u001b[38;5;241m*\u001b[39m\u001b[38;5;241m*\u001b[39mkwargs):\n\u001b[1;32m    114\u001b[0m     \u001b[38;5;28;01mwith\u001b[39;00m ctx_factory():\n\u001b[0;32m--> 115\u001b[0m         \u001b[38;5;28;01mreturn\u001b[39;00m \u001b[43mfunc\u001b[49m\u001b[43m(\u001b[49m\u001b[38;5;241;43m*\u001b[39;49m\u001b[43margs\u001b[49m\u001b[43m,\u001b[49m\u001b[43m \u001b[49m\u001b[38;5;241;43m*\u001b[39;49m\u001b[38;5;241;43m*\u001b[39;49m\u001b[43mkwargs\u001b[49m\u001b[43m)\u001b[49m\n",
      "File \u001b[0;32m~/Documents/CDRL/gendis/noncausal/model.py:74\u001b[0m, in \u001b[0;36mImageFlow.sample\u001b[0;34m(self, img_shape, num_samples, z_init)\u001b[0m\n\u001b[1;32m     72\u001b[0m ldj \u001b[38;5;241m=\u001b[39m torch\u001b[38;5;241m.\u001b[39mzeros(img_shape[\u001b[38;5;241m0\u001b[39m], device\u001b[38;5;241m=\u001b[39m\u001b[38;5;28mself\u001b[39m\u001b[38;5;241m.\u001b[39mdevice)\n\u001b[1;32m     73\u001b[0m \u001b[38;5;28;01mfor\u001b[39;00m flow \u001b[38;5;129;01min\u001b[39;00m \u001b[38;5;28mreversed\u001b[39m(\u001b[38;5;28mself\u001b[39m\u001b[38;5;241m.\u001b[39mflows):\n\u001b[0;32m---> 74\u001b[0m     z, ldj \u001b[38;5;241m=\u001b[39m \u001b[43mflow\u001b[49m\u001b[43m(\u001b[49m\u001b[43mz\u001b[49m\u001b[43m,\u001b[49m\u001b[43m \u001b[49m\u001b[43mldj\u001b[49m\u001b[43m,\u001b[49m\u001b[43m \u001b[49m\u001b[43mreverse\u001b[49m\u001b[38;5;241;43m=\u001b[39;49m\u001b[38;5;28;43;01mTrue\u001b[39;49;00m\u001b[43m)\u001b[49m\n\u001b[1;32m     75\u001b[0m     \u001b[38;5;28mprint\u001b[39m(\u001b[38;5;124m\"\u001b[39m\u001b[38;5;124mRunning: \u001b[39m\u001b[38;5;124m\"\u001b[39m, \u001b[38;5;28mtype\u001b[39m(flow), z\u001b[38;5;241m.\u001b[39mshape)\n\u001b[1;32m     76\u001b[0m \u001b[38;5;28;01mreturn\u001b[39;00m z\n",
      "File \u001b[0;32m~/miniforge3/envs/cdrl/lib/python3.10/site-packages/torch/nn/modules/module.py:1532\u001b[0m, in \u001b[0;36mModule._wrapped_call_impl\u001b[0;34m(self, *args, **kwargs)\u001b[0m\n\u001b[1;32m   1530\u001b[0m     \u001b[38;5;28;01mreturn\u001b[39;00m \u001b[38;5;28mself\u001b[39m\u001b[38;5;241m.\u001b[39m_compiled_call_impl(\u001b[38;5;241m*\u001b[39margs, \u001b[38;5;241m*\u001b[39m\u001b[38;5;241m*\u001b[39mkwargs)  \u001b[38;5;66;03m# type: ignore[misc]\u001b[39;00m\n\u001b[1;32m   1531\u001b[0m \u001b[38;5;28;01melse\u001b[39;00m:\n\u001b[0;32m-> 1532\u001b[0m     \u001b[38;5;28;01mreturn\u001b[39;00m \u001b[38;5;28;43mself\u001b[39;49m\u001b[38;5;241;43m.\u001b[39;49m\u001b[43m_call_impl\u001b[49m\u001b[43m(\u001b[49m\u001b[38;5;241;43m*\u001b[39;49m\u001b[43margs\u001b[49m\u001b[43m,\u001b[49m\u001b[43m \u001b[49m\u001b[38;5;241;43m*\u001b[39;49m\u001b[38;5;241;43m*\u001b[39;49m\u001b[43mkwargs\u001b[49m\u001b[43m)\u001b[49m\n",
      "File \u001b[0;32m~/miniforge3/envs/cdrl/lib/python3.10/site-packages/torch/nn/modules/module.py:1541\u001b[0m, in \u001b[0;36mModule._call_impl\u001b[0;34m(self, *args, **kwargs)\u001b[0m\n\u001b[1;32m   1536\u001b[0m \u001b[38;5;66;03m# If we don't have any hooks, we want to skip the rest of the logic in\u001b[39;00m\n\u001b[1;32m   1537\u001b[0m \u001b[38;5;66;03m# this function, and just call forward.\u001b[39;00m\n\u001b[1;32m   1538\u001b[0m \u001b[38;5;28;01mif\u001b[39;00m \u001b[38;5;129;01mnot\u001b[39;00m (\u001b[38;5;28mself\u001b[39m\u001b[38;5;241m.\u001b[39m_backward_hooks \u001b[38;5;129;01mor\u001b[39;00m \u001b[38;5;28mself\u001b[39m\u001b[38;5;241m.\u001b[39m_backward_pre_hooks \u001b[38;5;129;01mor\u001b[39;00m \u001b[38;5;28mself\u001b[39m\u001b[38;5;241m.\u001b[39m_forward_hooks \u001b[38;5;129;01mor\u001b[39;00m \u001b[38;5;28mself\u001b[39m\u001b[38;5;241m.\u001b[39m_forward_pre_hooks\n\u001b[1;32m   1539\u001b[0m         \u001b[38;5;129;01mor\u001b[39;00m _global_backward_pre_hooks \u001b[38;5;129;01mor\u001b[39;00m _global_backward_hooks\n\u001b[1;32m   1540\u001b[0m         \u001b[38;5;129;01mor\u001b[39;00m _global_forward_hooks \u001b[38;5;129;01mor\u001b[39;00m _global_forward_pre_hooks):\n\u001b[0;32m-> 1541\u001b[0m     \u001b[38;5;28;01mreturn\u001b[39;00m \u001b[43mforward_call\u001b[49m\u001b[43m(\u001b[49m\u001b[38;5;241;43m*\u001b[39;49m\u001b[43margs\u001b[49m\u001b[43m,\u001b[49m\u001b[43m \u001b[49m\u001b[38;5;241;43m*\u001b[39;49m\u001b[38;5;241;43m*\u001b[39;49m\u001b[43mkwargs\u001b[49m\u001b[43m)\u001b[49m\n\u001b[1;32m   1543\u001b[0m \u001b[38;5;28;01mtry\u001b[39;00m:\n\u001b[1;32m   1544\u001b[0m     result \u001b[38;5;241m=\u001b[39m \u001b[38;5;28;01mNone\u001b[39;00m\n",
      "Cell \u001b[0;32mIn[26], line 31\u001b[0m, in \u001b[0;36mCouplingLayer.forward\u001b[0;34m(self, z, ldj, reverse, orig_img)\u001b[0m\n\u001b[1;32m     21\u001b[0m \u001b[38;5;250m\u001b[39m\u001b[38;5;124;03m\"\"\"\u001b[39;00m\n\u001b[1;32m     22\u001b[0m \u001b[38;5;124;03mInputs:\u001b[39;00m\n\u001b[1;32m     23\u001b[0m \u001b[38;5;124;03m    z - Latent input to the flow\u001b[39;00m\n\u001b[0;32m   (...)\u001b[0m\n\u001b[1;32m     28\u001b[0m \u001b[38;5;124;03m                          input to condition the flow on (e.g. original image)\u001b[39;00m\n\u001b[1;32m     29\u001b[0m \u001b[38;5;124;03m\"\"\"\u001b[39;00m\n\u001b[1;32m     30\u001b[0m \u001b[38;5;66;03m# Apply network to masked input\u001b[39;00m\n\u001b[0;32m---> 31\u001b[0m z_in \u001b[38;5;241m=\u001b[39m \u001b[43mz\u001b[49m\u001b[43m \u001b[49m\u001b[38;5;241;43m*\u001b[39;49m\u001b[43m \u001b[49m\u001b[38;5;28;43mself\u001b[39;49m\u001b[38;5;241;43m.\u001b[39;49m\u001b[43mmask\u001b[49m\n\u001b[1;32m     32\u001b[0m \u001b[38;5;28;01mif\u001b[39;00m orig_img \u001b[38;5;129;01mis\u001b[39;00m \u001b[38;5;28;01mNone\u001b[39;00m:\n\u001b[1;32m     33\u001b[0m     nn_out \u001b[38;5;241m=\u001b[39m \u001b[38;5;28mself\u001b[39m\u001b[38;5;241m.\u001b[39mnetwork(z_in)\n",
      "\u001b[0;31mRuntimeError\u001b[0m: The size of tensor a (24) must match the size of tensor b (8) at non-singleton dimension 1"
     ]
    }
   ],
   "source": [
    "model = create_multiscale_flow()\n",
    "model.sample((5, 24, 7, 7))"
   ]
  },
  {
   "cell_type": "code",
   "execution_count": 23,
   "id": "0d0cf9d9-784e-43e4-92b7-23e5989daca6",
   "metadata": {},
   "outputs": [
    {
     "name": "stdout",
     "output_type": "stream",
     "text": [
      "torch.Size([2, 1, 28, 28])\n"
     ]
    }
   ],
   "source": [
    "img_scale_shape = (5, 24, 7, 7)\n",
    "img = torch.cat((train_set[0][0], train_set[1][0]))\n",
    "img = img.reshape(2, 1, 28, 28)\n",
    "prior = torch.distributions.normal.Normal(loc=0.0, scale=1.0)\n",
    "# img = torch.randn((5, 1, 28, 28)).abs()\n",
    "print(img.shape)"
   ]
  },
  {
   "cell_type": "code",
   "execution_count": 28,
   "id": "61790776-74fc-46b4-b36a-08245ca9b9d4",
   "metadata": {},
   "outputs": [
    {
     "name": "stdout",
     "output_type": "stream",
     "text": [
      "\n",
      "\n",
      "Inside image flow...\n",
      "torch.Size([5, 1, 28, 28])\n",
      "Running:  <class '__main__.CouplingLayer'> torch.Size([5, 8, 28, 28])\n",
      "Running:  <class '__main__.CouplingLayer'> torch.Size([5, 8, 28, 28])\n",
      "Running:  <class '__main__.CouplingLayer'> torch.Size([5, 8, 28, 28])\n",
      "Running:  <class '__main__.CouplingLayer'> torch.Size([5, 8, 28, 28])\n",
      "Running:  <class 'gendis.noncausal.flows.SqueezeFlow'> torch.Size([5, 2, 56, 56])\n",
      "Running:  <class 'gendis.noncausal.flows.SplitFlow'> torch.Size([5, 4, 56, 56])\n",
      "Running:  <class '__main__.CouplingLayer'> torch.Size([5, 4, 56, 56])\n",
      "Running:  <class '__main__.CouplingLayer'> torch.Size([5, 4, 56, 56])\n",
      "Running:  <class 'gendis.noncausal.flows.SqueezeFlow'> torch.Size([5, 1, 112, 112])\n"
     ]
    },
    {
     "ename": "RuntimeError",
     "evalue": "The size of tensor a (112) must match the size of tensor b (28) at non-singleton dimension 3",
     "output_type": "error",
     "traceback": [
      "\u001b[0;31m---------------------------------------------------------------------------\u001b[0m",
      "\u001b[0;31mRuntimeError\u001b[0m                              Traceback (most recent call last)",
      "Cell \u001b[0;32mIn[28], line 1\u001b[0m\n\u001b[0;32m----> 1\u001b[0m \u001b[43mmodel\u001b[49m\u001b[38;5;241;43m.\u001b[39;49m\u001b[43msample\u001b[49m\u001b[43m(\u001b[49m\u001b[43m(\u001b[49m\u001b[38;5;241;43m5\u001b[39;49m\u001b[43m,\u001b[49m\u001b[43m \u001b[49m\u001b[38;5;241;43m1\u001b[39;49m\u001b[43m,\u001b[49m\u001b[43m \u001b[49m\u001b[38;5;241;43m28\u001b[39;49m\u001b[43m,\u001b[49m\u001b[43m \u001b[49m\u001b[38;5;241;43m28\u001b[39;49m\u001b[43m)\u001b[49m\u001b[43m)\u001b[49m\n",
      "File \u001b[0;32m~/miniforge3/envs/cdrl/lib/python3.10/site-packages/torch/utils/_contextlib.py:115\u001b[0m, in \u001b[0;36mcontext_decorator.<locals>.decorate_context\u001b[0;34m(*args, **kwargs)\u001b[0m\n\u001b[1;32m    112\u001b[0m \u001b[38;5;129m@functools\u001b[39m\u001b[38;5;241m.\u001b[39mwraps(func)\n\u001b[1;32m    113\u001b[0m \u001b[38;5;28;01mdef\u001b[39;00m \u001b[38;5;21mdecorate_context\u001b[39m(\u001b[38;5;241m*\u001b[39margs, \u001b[38;5;241m*\u001b[39m\u001b[38;5;241m*\u001b[39mkwargs):\n\u001b[1;32m    114\u001b[0m     \u001b[38;5;28;01mwith\u001b[39;00m ctx_factory():\n\u001b[0;32m--> 115\u001b[0m         \u001b[38;5;28;01mreturn\u001b[39;00m \u001b[43mfunc\u001b[49m\u001b[43m(\u001b[49m\u001b[38;5;241;43m*\u001b[39;49m\u001b[43margs\u001b[49m\u001b[43m,\u001b[49m\u001b[43m \u001b[49m\u001b[38;5;241;43m*\u001b[39;49m\u001b[38;5;241;43m*\u001b[39;49m\u001b[43mkwargs\u001b[49m\u001b[43m)\u001b[49m\n",
      "File \u001b[0;32m~/Documents/CDRL/gendis/noncausal/model.py:74\u001b[0m, in \u001b[0;36mImageFlow.sample\u001b[0;34m(self, img_shape, num_samples, z_init)\u001b[0m\n\u001b[1;32m     72\u001b[0m ldj \u001b[38;5;241m=\u001b[39m torch\u001b[38;5;241m.\u001b[39mzeros(img_shape[\u001b[38;5;241m0\u001b[39m], device\u001b[38;5;241m=\u001b[39m\u001b[38;5;28mself\u001b[39m\u001b[38;5;241m.\u001b[39mdevice)\n\u001b[1;32m     73\u001b[0m \u001b[38;5;28;01mfor\u001b[39;00m flow \u001b[38;5;129;01min\u001b[39;00m \u001b[38;5;28mreversed\u001b[39m(\u001b[38;5;28mself\u001b[39m\u001b[38;5;241m.\u001b[39mflows):\n\u001b[0;32m---> 74\u001b[0m     z, ldj \u001b[38;5;241m=\u001b[39m \u001b[43mflow\u001b[49m\u001b[43m(\u001b[49m\u001b[43mz\u001b[49m\u001b[43m,\u001b[49m\u001b[43m \u001b[49m\u001b[43mldj\u001b[49m\u001b[43m,\u001b[49m\u001b[43m \u001b[49m\u001b[43mreverse\u001b[49m\u001b[38;5;241;43m=\u001b[39;49m\u001b[38;5;28;43;01mTrue\u001b[39;49;00m\u001b[43m)\u001b[49m\n\u001b[1;32m     75\u001b[0m     \u001b[38;5;28mprint\u001b[39m(\u001b[38;5;124m\"\u001b[39m\u001b[38;5;124mRunning: \u001b[39m\u001b[38;5;124m\"\u001b[39m, \u001b[38;5;28mtype\u001b[39m(flow), z\u001b[38;5;241m.\u001b[39mshape)\n\u001b[1;32m     76\u001b[0m \u001b[38;5;28;01mreturn\u001b[39;00m z\n",
      "File \u001b[0;32m~/miniforge3/envs/cdrl/lib/python3.10/site-packages/torch/nn/modules/module.py:1532\u001b[0m, in \u001b[0;36mModule._wrapped_call_impl\u001b[0;34m(self, *args, **kwargs)\u001b[0m\n\u001b[1;32m   1530\u001b[0m     \u001b[38;5;28;01mreturn\u001b[39;00m \u001b[38;5;28mself\u001b[39m\u001b[38;5;241m.\u001b[39m_compiled_call_impl(\u001b[38;5;241m*\u001b[39margs, \u001b[38;5;241m*\u001b[39m\u001b[38;5;241m*\u001b[39mkwargs)  \u001b[38;5;66;03m# type: ignore[misc]\u001b[39;00m\n\u001b[1;32m   1531\u001b[0m \u001b[38;5;28;01melse\u001b[39;00m:\n\u001b[0;32m-> 1532\u001b[0m     \u001b[38;5;28;01mreturn\u001b[39;00m \u001b[38;5;28;43mself\u001b[39;49m\u001b[38;5;241;43m.\u001b[39;49m\u001b[43m_call_impl\u001b[49m\u001b[43m(\u001b[49m\u001b[38;5;241;43m*\u001b[39;49m\u001b[43margs\u001b[49m\u001b[43m,\u001b[49m\u001b[43m \u001b[49m\u001b[38;5;241;43m*\u001b[39;49m\u001b[38;5;241;43m*\u001b[39;49m\u001b[43mkwargs\u001b[49m\u001b[43m)\u001b[49m\n",
      "File \u001b[0;32m~/miniforge3/envs/cdrl/lib/python3.10/site-packages/torch/nn/modules/module.py:1541\u001b[0m, in \u001b[0;36mModule._call_impl\u001b[0;34m(self, *args, **kwargs)\u001b[0m\n\u001b[1;32m   1536\u001b[0m \u001b[38;5;66;03m# If we don't have any hooks, we want to skip the rest of the logic in\u001b[39;00m\n\u001b[1;32m   1537\u001b[0m \u001b[38;5;66;03m# this function, and just call forward.\u001b[39;00m\n\u001b[1;32m   1538\u001b[0m \u001b[38;5;28;01mif\u001b[39;00m \u001b[38;5;129;01mnot\u001b[39;00m (\u001b[38;5;28mself\u001b[39m\u001b[38;5;241m.\u001b[39m_backward_hooks \u001b[38;5;129;01mor\u001b[39;00m \u001b[38;5;28mself\u001b[39m\u001b[38;5;241m.\u001b[39m_backward_pre_hooks \u001b[38;5;129;01mor\u001b[39;00m \u001b[38;5;28mself\u001b[39m\u001b[38;5;241m.\u001b[39m_forward_hooks \u001b[38;5;129;01mor\u001b[39;00m \u001b[38;5;28mself\u001b[39m\u001b[38;5;241m.\u001b[39m_forward_pre_hooks\n\u001b[1;32m   1539\u001b[0m         \u001b[38;5;129;01mor\u001b[39;00m _global_backward_pre_hooks \u001b[38;5;129;01mor\u001b[39;00m _global_backward_hooks\n\u001b[1;32m   1540\u001b[0m         \u001b[38;5;129;01mor\u001b[39;00m _global_forward_hooks \u001b[38;5;129;01mor\u001b[39;00m _global_forward_pre_hooks):\n\u001b[0;32m-> 1541\u001b[0m     \u001b[38;5;28;01mreturn\u001b[39;00m \u001b[43mforward_call\u001b[49m\u001b[43m(\u001b[49m\u001b[38;5;241;43m*\u001b[39;49m\u001b[43margs\u001b[49m\u001b[43m,\u001b[49m\u001b[43m \u001b[49m\u001b[38;5;241;43m*\u001b[39;49m\u001b[38;5;241;43m*\u001b[39;49m\u001b[43mkwargs\u001b[49m\u001b[43m)\u001b[49m\n\u001b[1;32m   1543\u001b[0m \u001b[38;5;28;01mtry\u001b[39;00m:\n\u001b[1;32m   1544\u001b[0m     result \u001b[38;5;241m=\u001b[39m \u001b[38;5;28;01mNone\u001b[39;00m\n",
      "Cell \u001b[0;32mIn[26], line 31\u001b[0m, in \u001b[0;36mCouplingLayer.forward\u001b[0;34m(self, z, ldj, reverse, orig_img)\u001b[0m\n\u001b[1;32m     21\u001b[0m \u001b[38;5;250m\u001b[39m\u001b[38;5;124;03m\"\"\"\u001b[39;00m\n\u001b[1;32m     22\u001b[0m \u001b[38;5;124;03mInputs:\u001b[39;00m\n\u001b[1;32m     23\u001b[0m \u001b[38;5;124;03m    z - Latent input to the flow\u001b[39;00m\n\u001b[0;32m   (...)\u001b[0m\n\u001b[1;32m     28\u001b[0m \u001b[38;5;124;03m                          input to condition the flow on (e.g. original image)\u001b[39;00m\n\u001b[1;32m     29\u001b[0m \u001b[38;5;124;03m\"\"\"\u001b[39;00m\n\u001b[1;32m     30\u001b[0m \u001b[38;5;66;03m# Apply network to masked input\u001b[39;00m\n\u001b[0;32m---> 31\u001b[0m z_in \u001b[38;5;241m=\u001b[39m \u001b[43mz\u001b[49m\u001b[43m \u001b[49m\u001b[38;5;241;43m*\u001b[39;49m\u001b[43m \u001b[49m\u001b[38;5;28;43mself\u001b[39;49m\u001b[38;5;241;43m.\u001b[39;49m\u001b[43mmask\u001b[49m\n\u001b[1;32m     32\u001b[0m \u001b[38;5;28;01mif\u001b[39;00m orig_img \u001b[38;5;129;01mis\u001b[39;00m \u001b[38;5;28;01mNone\u001b[39;00m:\n\u001b[1;32m     33\u001b[0m     nn_out \u001b[38;5;241m=\u001b[39m \u001b[38;5;28mself\u001b[39m\u001b[38;5;241m.\u001b[39mnetwork(z_in)\n",
      "\u001b[0;31mRuntimeError\u001b[0m: The size of tensor a (112) must match the size of tensor b (28) at non-singleton dimension 3"
     ]
    }
   ],
   "source": [
    "model.sample((5, 1, 28, 28))"
   ]
  },
  {
   "cell_type": "code",
   "execution_count": 24,
   "id": "a67916bf-7f37-4966-9b13-a36878e4d6ed",
   "metadata": {},
   "outputs": [
    {
     "ename": "RuntimeError",
     "evalue": "The size of tensor a (2) must match the size of tensor b (7) at non-singleton dimension 2",
     "output_type": "error",
     "traceback": [
      "\u001b[0;31m---------------------------------------------------------------------------\u001b[0m",
      "\u001b[0;31mRuntimeError\u001b[0m                              Traceback (most recent call last)",
      "Cell \u001b[0;32mIn[24], line 1\u001b[0m\n\u001b[0;32m----> 1\u001b[0m output, ldj \u001b[38;5;241m=\u001b[39m \u001b[43mmodel\u001b[49m\u001b[43m(\u001b[49m\u001b[43mimg\u001b[49m\u001b[43m)\u001b[49m\n",
      "File \u001b[0;32m~/miniforge3/envs/cdrl/lib/python3.10/site-packages/torch/nn/modules/module.py:1532\u001b[0m, in \u001b[0;36mModule._wrapped_call_impl\u001b[0;34m(self, *args, **kwargs)\u001b[0m\n\u001b[1;32m   1530\u001b[0m     \u001b[38;5;28;01mreturn\u001b[39;00m \u001b[38;5;28mself\u001b[39m\u001b[38;5;241m.\u001b[39m_compiled_call_impl(\u001b[38;5;241m*\u001b[39margs, \u001b[38;5;241m*\u001b[39m\u001b[38;5;241m*\u001b[39mkwargs)  \u001b[38;5;66;03m# type: ignore[misc]\u001b[39;00m\n\u001b[1;32m   1531\u001b[0m \u001b[38;5;28;01melse\u001b[39;00m:\n\u001b[0;32m-> 1532\u001b[0m     \u001b[38;5;28;01mreturn\u001b[39;00m \u001b[38;5;28;43mself\u001b[39;49m\u001b[38;5;241;43m.\u001b[39;49m\u001b[43m_call_impl\u001b[49m\u001b[43m(\u001b[49m\u001b[38;5;241;43m*\u001b[39;49m\u001b[43margs\u001b[49m\u001b[43m,\u001b[49m\u001b[43m \u001b[49m\u001b[38;5;241;43m*\u001b[39;49m\u001b[38;5;241;43m*\u001b[39;49m\u001b[43mkwargs\u001b[49m\u001b[43m)\u001b[49m\n",
      "File \u001b[0;32m~/miniforge3/envs/cdrl/lib/python3.10/site-packages/torch/nn/modules/module.py:1541\u001b[0m, in \u001b[0;36mModule._call_impl\u001b[0;34m(self, *args, **kwargs)\u001b[0m\n\u001b[1;32m   1536\u001b[0m \u001b[38;5;66;03m# If we don't have any hooks, we want to skip the rest of the logic in\u001b[39;00m\n\u001b[1;32m   1537\u001b[0m \u001b[38;5;66;03m# this function, and just call forward.\u001b[39;00m\n\u001b[1;32m   1538\u001b[0m \u001b[38;5;28;01mif\u001b[39;00m \u001b[38;5;129;01mnot\u001b[39;00m (\u001b[38;5;28mself\u001b[39m\u001b[38;5;241m.\u001b[39m_backward_hooks \u001b[38;5;129;01mor\u001b[39;00m \u001b[38;5;28mself\u001b[39m\u001b[38;5;241m.\u001b[39m_backward_pre_hooks \u001b[38;5;129;01mor\u001b[39;00m \u001b[38;5;28mself\u001b[39m\u001b[38;5;241m.\u001b[39m_forward_hooks \u001b[38;5;129;01mor\u001b[39;00m \u001b[38;5;28mself\u001b[39m\u001b[38;5;241m.\u001b[39m_forward_pre_hooks\n\u001b[1;32m   1539\u001b[0m         \u001b[38;5;129;01mor\u001b[39;00m _global_backward_pre_hooks \u001b[38;5;129;01mor\u001b[39;00m _global_backward_hooks\n\u001b[1;32m   1540\u001b[0m         \u001b[38;5;129;01mor\u001b[39;00m _global_forward_hooks \u001b[38;5;129;01mor\u001b[39;00m _global_forward_pre_hooks):\n\u001b[0;32m-> 1541\u001b[0m     \u001b[38;5;28;01mreturn\u001b[39;00m \u001b[43mforward_call\u001b[49m\u001b[43m(\u001b[49m\u001b[38;5;241;43m*\u001b[39;49m\u001b[43margs\u001b[49m\u001b[43m,\u001b[49m\u001b[43m \u001b[49m\u001b[38;5;241;43m*\u001b[39;49m\u001b[38;5;241;43m*\u001b[39;49m\u001b[43mkwargs\u001b[49m\u001b[43m)\u001b[49m\n\u001b[1;32m   1543\u001b[0m \u001b[38;5;28;01mtry\u001b[39;00m:\n\u001b[1;32m   1544\u001b[0m     result \u001b[38;5;241m=\u001b[39m \u001b[38;5;28;01mNone\u001b[39;00m\n",
      "File \u001b[0;32m~/Documents/CDRL/gendis/noncausal/model.py:34\u001b[0m, in \u001b[0;36mImageFlow.forward\u001b[0;34m(self, imgs)\u001b[0m\n\u001b[1;32m     32\u001b[0m \u001b[38;5;28;01mdef\u001b[39;00m \u001b[38;5;21mforward\u001b[39m(\u001b[38;5;28mself\u001b[39m, imgs):\n\u001b[1;32m     33\u001b[0m     \u001b[38;5;66;03m# The forward function is only used for visualizing the graph\u001b[39;00m\n\u001b[0;32m---> 34\u001b[0m     \u001b[38;5;28;01mreturn\u001b[39;00m \u001b[38;5;28;43mself\u001b[39;49m\u001b[38;5;241;43m.\u001b[39;49m\u001b[43m_get_likelihood\u001b[49m\u001b[43m(\u001b[49m\u001b[43mimgs\u001b[49m\u001b[43m)\u001b[49m\n",
      "File \u001b[0;32m~/Documents/CDRL/gendis/noncausal/model.py:51\u001b[0m, in \u001b[0;36mImageFlow._get_likelihood\u001b[0;34m(self, imgs, return_ll)\u001b[0m\n\u001b[1;32m     49\u001b[0m z, ldj \u001b[38;5;241m=\u001b[39m \u001b[38;5;28mself\u001b[39m\u001b[38;5;241m.\u001b[39mencode(imgs)\n\u001b[1;32m     50\u001b[0m log_pz \u001b[38;5;241m=\u001b[39m \u001b[38;5;28mself\u001b[39m\u001b[38;5;241m.\u001b[39mprior\u001b[38;5;241m.\u001b[39mlog_prob(z)\u001b[38;5;241m.\u001b[39msum(dim\u001b[38;5;241m=\u001b[39m\u001b[38;5;241m-\u001b[39m\u001b[38;5;241m1\u001b[39m)\n\u001b[0;32m---> 51\u001b[0m log_px \u001b[38;5;241m=\u001b[39m \u001b[43mldj\u001b[49m\u001b[43m \u001b[49m\u001b[38;5;241;43m+\u001b[39;49m\u001b[43m \u001b[49m\u001b[43mlog_pz\u001b[49m\n\u001b[1;32m     52\u001b[0m nll \u001b[38;5;241m=\u001b[39m \u001b[38;5;241m-\u001b[39mlog_px\n\u001b[1;32m     54\u001b[0m \u001b[38;5;66;03m# Calculating bits per dimension for each batch\u001b[39;00m\n",
      "\u001b[0;31mRuntimeError\u001b[0m: The size of tensor a (2) must match the size of tensor b (7) at non-singleton dimension 2"
     ]
    }
   ],
   "source": [
    "output, ldj = model(img)"
   ]
  },
  {
   "cell_type": "code",
   "execution_count": null,
   "id": "cbedef79-8d1a-44f2-a113-588c05f555f2",
   "metadata": {},
   "outputs": [],
   "source": []
  }
 ],
 "metadata": {
  "kernelspec": {
   "display_name": "cdrl",
   "language": "python",
   "name": "cdrl"
  },
  "language_info": {
   "codemirror_mode": {
    "name": "ipython",
    "version": 3
   },
   "file_extension": ".py",
   "mimetype": "text/x-python",
   "name": "python",
   "nbconvert_exporter": "python",
   "pygments_lexer": "ipython3",
   "version": "3.10.14"
  }
 },
 "nbformat": 4,
 "nbformat_minor": 5
}
