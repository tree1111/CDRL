{
 "cells": [
  {
   "cell_type": "markdown",
   "id": "33630712-9b88-4201-a4c1-d55756e5d269",
   "metadata": {},
   "source": [
    "# Baseline results: VAE with ResNet Encoder/Decoder\n",
    "\n",
    "As a baseline, we have a VAE with a common architecture used in computer vision, the resnet.\n",
    "Here, we will see perturbing the latent space will arbitrarility perturb different factors of the image. Moreover, we do not have any intuition as to what aspects of the latent space correspond to different components of the image (e.g. color). One would have to do combinatorial search over all the latent dimensions to qualitatively map latent dimensions to components of an image."
   ]
  },
  {
   "cell_type": "code",
   "execution_count": 1,
   "id": "f509c390-0ea1-4aa2-af63-fa31e7ff8004",
   "metadata": {},
   "outputs": [
    {
     "name": "stderr",
     "output_type": "stream",
     "text": [
      "/Users/adam2392/miniforge3/envs/cdrl/lib/python3.10/site-packages/pl_bolts/__init__.py:11: FutureWarning: In the future `np.object` will be defined as the corresponding NumPy scalar.\n",
      "  if not hasattr(numpy, tp_name):\n",
      "/Users/adam2392/miniforge3/envs/cdrl/lib/python3.10/site-packages/pl_bolts/__init__.py:11: FutureWarning: In the future `np.bool` will be defined as the corresponding NumPy scalar.\n",
      "  if not hasattr(numpy, tp_name):\n",
      "/Users/adam2392/miniforge3/envs/cdrl/lib/python3.10/site-packages/pl_bolts/models/self_supervised/amdim/amdim_module.py:34: UnderReviewWarning: The feature generate_power_seq is currently marked under review. The compatibility with other Lightning projects is not guaranteed and API may change at any time. The API and functionality may change without warning in future releases. More details: https://lightning-bolts.readthedocs.io/en/latest/stability.html\n",
      "  \"lr_options\": generate_power_seq(LEARNING_RATE_CIFAR, 11),\n",
      "/Users/adam2392/miniforge3/envs/cdrl/lib/python3.10/site-packages/pl_bolts/models/self_supervised/amdim/amdim_module.py:92: UnderReviewWarning: The feature FeatureMapContrastiveTask is currently marked under review. The compatibility with other Lightning projects is not guaranteed and API may change at any time. The API and functionality may change without warning in future releases. More details: https://lightning-bolts.readthedocs.io/en/latest/stability.html\n",
      "  contrastive_task: Union[FeatureMapContrastiveTask] = FeatureMapContrastiveTask(\"01, 02, 11\"),\n",
      "/Users/adam2392/miniforge3/envs/cdrl/lib/python3.10/site-packages/pl_bolts/losses/self_supervised_learning.py:228: UnderReviewWarning: The feature AmdimNCELoss is currently marked under review. The compatibility with other Lightning projects is not guaranteed and API may change at any time. The API and functionality may change without warning in future releases. More details: https://lightning-bolts.readthedocs.io/en/latest/stability.html\n",
      "  self.nce_loss = AmdimNCELoss(tclip)\n"
     ]
    }
   ],
   "source": [
    "import math\n",
    "import os\n",
    "from copy import deepcopy\n",
    "from pathlib import Path\n",
    "\n",
    "import matplotlib.pyplot as plt\n",
    "import normflows as nf\n",
    "import numpy as np\n",
    "import pytorch_lightning as pl\n",
    "import seaborn as sns\n",
    "import torch\n",
    "import torch.nn as nn\n",
    "import torchvision\n",
    "import torchvision.datasets.utils as dataset_utils\n",
    "from PIL import Image\n",
    "from pl_bolts.models.autoencoders.components import resnet18_decoder, resnet18_encoder\n",
    "from torchvision import datasets, transforms\n",
    "from torchvision.datasets import MNIST\n",
    "from torchvision.transforms import ToTensor\n",
    "\n",
    "from gendis.datasets import CausalMNIST, ClusteredMultiDistrDataModule\n",
    "from gendis.model import NeuralClusteredASCMFlow\n",
    "from gendis.variational.vae import VAE"
   ]
  },
  {
   "cell_type": "code",
   "execution_count": 2,
   "id": "3709d32e-1418-4366-a2f6-e665b1974c84",
   "metadata": {},
   "outputs": [],
   "source": [
    "def show_imgs(imgs, title=None, row_size=4):\n",
    "    # Form a grid of pictures (we use max. 8 columns)\n",
    "    num_imgs = imgs.shape[0] if isinstance(imgs, torch.Tensor) else len(imgs)\n",
    "    is_int = (\n",
    "        imgs.dtype == torch.int32\n",
    "        if isinstance(imgs, torch.Tensor)\n",
    "        else imgs[0].dtype == torch.int32\n",
    "    )\n",
    "    nrow = min(num_imgs, row_size)\n",
    "    ncol = int(math.ceil(num_imgs / nrow))\n",
    "    imgs = torchvision.utils.make_grid(\n",
    "        imgs, nrow=nrow, pad_value=128 if is_int else 0.5\n",
    "    )\n",
    "    np_imgs = imgs.cpu().numpy()\n",
    "    # Plot the grid\n",
    "    plt.figure(figsize=(1.5 * nrow, 1.5 * ncol))\n",
    "    plt.imshow(np.transpose(np_imgs, (1, 2, 0)), interpolation=\"nearest\")\n",
    "    plt.axis(\"off\")\n",
    "    if title is not None:\n",
    "        plt.title(title)\n",
    "    plt.show()\n",
    "    plt.close()"
   ]
  },
  {
   "cell_type": "code",
   "execution_count": 16,
   "id": "a1a8c5be-37f6-4ed1-a53c-8fa4300265f5",
   "metadata": {},
   "outputs": [],
   "source": [
    "seed = 1\n",
    "graph_type = \"chain\"\n",
    "epoch = 3129\n",
    "step = 131460\n",
    "epoch = 6207\n",
    "step = 260736\n",
    "\n",
    "epoch = 18815\n",
    "step = 790272\n",
    "\n",
    "# epoch = 9988\n",
    "# step = 419538\n",
    "\n",
    "results_dir = Path(\n",
    "    f\"/Users/adam2392/pytorch_data/data/variational/vae-resnet-{graph_type}-seed={seed}/\"\n",
    ")\n",
    "checkpoint_fname = results_dir / f\"epoch={epoch}-step={step}.ckpt\"\n",
    "model = VAE.load_from_checkpoint(checkpoint_fname)"
   ]
  },
  {
   "cell_type": "code",
   "execution_count": 17,
   "id": "bc018992-be19-42bb-b9ac-9373cc7b8e09",
   "metadata": {},
   "outputs": [
    {
     "name": "stdout",
     "output_type": "stream",
     "text": [
      "torch.Size([4, 3, 32, 32])\n"
     ]
    }
   ],
   "source": [
    "# sample from normal distribution\n",
    "noise = torch.randn(4, 3)\n",
    "obs_imgs = model.decoder(noise)  # .reshape(4, 3, 28, 28)\n",
    "print(obs_imgs.shape)"
   ]
  },
  {
   "cell_type": "code",
   "execution_count": 18,
   "id": "ae7af519-b3c2-4cb8-bc1e-24a9c87cec4a",
   "metadata": {},
   "outputs": [
    {
     "name": "stderr",
     "output_type": "stream",
     "text": [
      "Clipping input data to the valid range for imshow with RGB data ([0..1] for floats or [0..255] for integers).\n"
     ]
    },
    {
     "data": {
      "image/png": "[encoded data removed]",
      "text/plain": [
       "<Figure size 600x150 with 1 Axes>"
      ]
     },
     "metadata": {},
     "output_type": "display_data"
    }
   ],
   "source": [
    "new_obs_imgs = obs_imgs\n",
    "\n",
    "# new_obs_imgs = torch.zeros_like(obs_imgs)\n",
    "# for idx, image in enumerate(obs_imgs):\n",
    "#     new_image = (image - image.min()) / (image.max() - image.min())\n",
    "#     new_obs_imgs[idx, ...] = new_image\n",
    "# print(image.min(), image.max())\n",
    "\n",
    "show_imgs(new_obs_imgs, title=\"Obs\")"
   ]
  },
  {
   "cell_type": "code",
   "execution_count": 72,
   "id": "1d4c430f-7ee5-4927-a021-b01b95d6fd7b",
   "metadata": {},
   "outputs": [
    {
     "name": "stdout",
     "output_type": "stream",
     "text": [
      "9988\n"
     ]
    }
   ],
   "source": [
    "checkpoint = torch.load(checkpoint_fname, map_location=lambda storage, loc: storage)\n",
    "print(checkpoint[\"epoch\"])"
   ]
  },
  {
   "cell_type": "markdown",
   "id": "60626b94-6b52-4de8-93d4-0293026e9fd8",
   "metadata": {},
   "source": [
    "## Interventional Experiment\n",
    "\n",
    "Here, we take a look at the latent dimensions, and apply a perturbation on three randomly chosen batch of variables one at a time. We then compare these to the original image.\n",
    "\n",
    "The algorithm proceeds by:\n",
    "\n",
    "1. sampling a random vector for the latent representation and decoding that into an image\n",
    "2. perturbing the same random vector and decoding the result into an image\n",
    "3. repeating for different perturbations.\n",
    "\n",
    "The experiment will demonstrate that the perturbations have not only i) entangled representations of the image concepts (color, fracture, width), but ii) also are by construction unpredictable. "
   ]
  },
  {
   "cell_type": "code",
   "execution_count": null,
   "id": "61797268-e58a-46ef-9407-e86af55c967d",
   "metadata": {},
   "outputs": [],
   "source": []
  }
 ],
 "metadata": {
  "kernelspec": {
   "display_name": "cdrl",
   "language": "python",
   "name": "cdrl"
  },
  "language_info": {
   "codemirror_mode": {
    "name": "ipython",
    "version": 3
   },
   "file_extension": ".py",
   "mimetype": "text/x-python",
   "name": "python",
   "nbconvert_exporter": "python",
   "pygments_lexer": "ipython3",
   "version": "3.10.14"
  }
 },
 "nbformat": 4,
 "nbformat_minor": 5
}
